{
 "cells": [
  {
   "cell_type": "markdown",
   "metadata": {},
   "source": [
    "# Who is paying and NOT paying the loan?\n",
    "    - by Jay Ko and Richard Petrie"
   ]
  },
  {
   "cell_type": "markdown",
   "metadata": {},
   "source": [
    "\"On my honor, as a student, I have neither given nor received unauthorized aid on this academic work.\""
   ]
  },
  {
   "cell_type": "markdown",
   "metadata": {},
   "source": [
    "## About dataset\n",
    "<br/>\n",
    "<div style=\"text-align:justify\">: This dataset is directly from the website [Lending-Club-Loan-Data](https://www.kaggle.com/wendykan/lending-club-loan-data). According to its description, <u>this dataset contains completed load data for all all loans issued through the 2007-2015, including the current loan status and latest payment information. This data set is a matrix of about 890,000 observations and 75 columns</u><sup>[1]</sup>\n",
    "[1]:https://www.kaggle.com/wendykan/lending-club-loan-data</div>"
   ]
  },
  {
   "cell_type": "markdown",
   "metadata": {},
   "source": [
    "![](images/cash.jpg)"
   ]
  },
  {
   "cell_type": "markdown",
   "metadata": {},
   "source": [
    "## Understanding data\n",
    "<div style=\"text-align:justify\">\n",
    "<br/>\n",
    "Not only to the merchandiser, but also to the loaner, getting money back is the most important part for their business. This data set observed almost 900,000 observation with variety factors such as `loan amount`, `funded amount`, `interest rate`, and `total payment` and etc. With this dataset, **we are trying to analysis who is most likely to pay back the loan and who is not**.</div>"
   ]
  },
  {
   "cell_type": "markdown",
   "metadata": {},
   "source": [
    "## Data processing"
   ]
  },
  {
   "cell_type": "code",
   "execution_count": 1,
   "metadata": {
    "collapsed": true
   },
   "outputs": [],
   "source": [
    "# Import basic data science packages\n",
    "import pandas as pd\n",
    "import seaborn as sns\n",
    "import numpy as np\n",
    "import matplotlib.pyplot as plt\n",
    "import matplotlib\n",
    "%matplotlib inline\n",
    "\n",
    "# A helper function that converts \n",
    "# [\"a\", \"b\", \"a\", \"c\"] into\n",
    "# [1, 2, 1, 3]\n",
    "def categorize(l):\n",
    "    uniques = sorted(list(set(l)))\n",
    "    return [uniques.index(x) + 1 for x in l]"
   ]
  },
  {
   "cell_type": "code",
   "execution_count": 2,
   "metadata": {},
   "outputs": [
    {
     "name": "stderr",
     "output_type": "stream",
     "text": [
      "/home/richardp/anaconda3/lib/python3.6/site-packages/IPython/core/interactiveshell.py:2717: DtypeWarning: Columns (19,55) have mixed types. Specify dtype option on import or set low_memory=False.\n",
      "  interactivity=interactivity, compiler=compiler, result=result)\n"
     ]
    },
    {
     "data": {
      "text/html": [
       "<div>\n",
       "<style>\n",
       "    .dataframe thead tr:only-child th {\n",
       "        text-align: right;\n",
       "    }\n",
       "\n",
       "    .dataframe thead th {\n",
       "        text-align: left;\n",
       "    }\n",
       "\n",
       "    .dataframe tbody tr th {\n",
       "        vertical-align: top;\n",
       "    }\n",
       "</style>\n",
       "<table border=\"1\" class=\"dataframe\">\n",
       "  <thead>\n",
       "    <tr style=\"text-align: right;\">\n",
       "      <th></th>\n",
       "      <th>id</th>\n",
       "      <th>member_id</th>\n",
       "      <th>loan_amnt</th>\n",
       "      <th>funded_amnt</th>\n",
       "      <th>funded_amnt_inv</th>\n",
       "      <th>term</th>\n",
       "      <th>int_rate</th>\n",
       "      <th>installment</th>\n",
       "      <th>grade</th>\n",
       "      <th>sub_grade</th>\n",
       "      <th>...</th>\n",
       "      <th>total_bal_il</th>\n",
       "      <th>il_util</th>\n",
       "      <th>open_rv_12m</th>\n",
       "      <th>open_rv_24m</th>\n",
       "      <th>max_bal_bc</th>\n",
       "      <th>all_util</th>\n",
       "      <th>total_rev_hi_lim</th>\n",
       "      <th>inq_fi</th>\n",
       "      <th>total_cu_tl</th>\n",
       "      <th>inq_last_12m</th>\n",
       "    </tr>\n",
       "  </thead>\n",
       "  <tbody>\n",
       "    <tr>\n",
       "      <th>0</th>\n",
       "      <td>1077501</td>\n",
       "      <td>1296599</td>\n",
       "      <td>5000.0</td>\n",
       "      <td>5000.0</td>\n",
       "      <td>4975.0</td>\n",
       "      <td>36 months</td>\n",
       "      <td>10.65</td>\n",
       "      <td>162.87</td>\n",
       "      <td>B</td>\n",
       "      <td>B2</td>\n",
       "      <td>...</td>\n",
       "      <td>NaN</td>\n",
       "      <td>NaN</td>\n",
       "      <td>NaN</td>\n",
       "      <td>NaN</td>\n",
       "      <td>NaN</td>\n",
       "      <td>NaN</td>\n",
       "      <td>NaN</td>\n",
       "      <td>NaN</td>\n",
       "      <td>NaN</td>\n",
       "      <td>NaN</td>\n",
       "    </tr>\n",
       "    <tr>\n",
       "      <th>1</th>\n",
       "      <td>1077430</td>\n",
       "      <td>1314167</td>\n",
       "      <td>2500.0</td>\n",
       "      <td>2500.0</td>\n",
       "      <td>2500.0</td>\n",
       "      <td>60 months</td>\n",
       "      <td>15.27</td>\n",
       "      <td>59.83</td>\n",
       "      <td>C</td>\n",
       "      <td>C4</td>\n",
       "      <td>...</td>\n",
       "      <td>NaN</td>\n",
       "      <td>NaN</td>\n",
       "      <td>NaN</td>\n",
       "      <td>NaN</td>\n",
       "      <td>NaN</td>\n",
       "      <td>NaN</td>\n",
       "      <td>NaN</td>\n",
       "      <td>NaN</td>\n",
       "      <td>NaN</td>\n",
       "      <td>NaN</td>\n",
       "    </tr>\n",
       "    <tr>\n",
       "      <th>2</th>\n",
       "      <td>1077175</td>\n",
       "      <td>1313524</td>\n",
       "      <td>2400.0</td>\n",
       "      <td>2400.0</td>\n",
       "      <td>2400.0</td>\n",
       "      <td>36 months</td>\n",
       "      <td>15.96</td>\n",
       "      <td>84.33</td>\n",
       "      <td>C</td>\n",
       "      <td>C5</td>\n",
       "      <td>...</td>\n",
       "      <td>NaN</td>\n",
       "      <td>NaN</td>\n",
       "      <td>NaN</td>\n",
       "      <td>NaN</td>\n",
       "      <td>NaN</td>\n",
       "      <td>NaN</td>\n",
       "      <td>NaN</td>\n",
       "      <td>NaN</td>\n",
       "      <td>NaN</td>\n",
       "      <td>NaN</td>\n",
       "    </tr>\n",
       "  </tbody>\n",
       "</table>\n",
       "<p>3 rows × 74 columns</p>\n",
       "</div>"
      ],
      "text/plain": [
       "        id  member_id  loan_amnt  funded_amnt  funded_amnt_inv        term  \\\n",
       "0  1077501    1296599     5000.0       5000.0           4975.0   36 months   \n",
       "1  1077430    1314167     2500.0       2500.0           2500.0   60 months   \n",
       "2  1077175    1313524     2400.0       2400.0           2400.0   36 months   \n",
       "\n",
       "   int_rate  installment grade sub_grade     ...      total_bal_il il_util  \\\n",
       "0     10.65       162.87     B        B2     ...               NaN     NaN   \n",
       "1     15.27        59.83     C        C4     ...               NaN     NaN   \n",
       "2     15.96        84.33     C        C5     ...               NaN     NaN   \n",
       "\n",
       "  open_rv_12m  open_rv_24m max_bal_bc all_util total_rev_hi_lim inq_fi  \\\n",
       "0         NaN          NaN        NaN      NaN              NaN    NaN   \n",
       "1         NaN          NaN        NaN      NaN              NaN    NaN   \n",
       "2         NaN          NaN        NaN      NaN              NaN    NaN   \n",
       "\n",
       "  total_cu_tl inq_last_12m  \n",
       "0         NaN          NaN  \n",
       "1         NaN          NaN  \n",
       "2         NaN          NaN  \n",
       "\n",
       "[3 rows x 74 columns]"
      ]
     },
     "execution_count": 2,
     "metadata": {},
     "output_type": "execute_result"
    }
   ],
   "source": [
    "df = pd.read_csv(\"data/loan.csv\")\n",
    "df.head(3)"
   ]
  },
  {
   "cell_type": "code",
   "execution_count": 3,
   "metadata": {
    "collapsed": true
   },
   "outputs": [],
   "source": [
    "# Initial drops. I'm fairly confident in not needing these.\n",
    "df = df.drop(['url', 'desc', 'policy_code', 'last_pymnt_d', 'next_pymnt_d', 'earliest_cr_line', 'emp_title'], axis=1)\n",
    "df = df.drop(['id', 'title', 'total_rec_int', 'total_rec_late_fee', 'total_rec_prncp', 'zip_code'], axis=1)"
   ]
  },
  {
   "cell_type": "code",
   "execution_count": 4,
   "metadata": {
    "collapsed": true
   },
   "outputs": [],
   "source": [
    "# Booleanize\n",
    "df['joint_application'] = [0 if x == \"INDIVIDUAL\" else 1 for x in df['application_type']]\n",
    "df = df.drop(['application_type'], axis=1)"
   ]
  },
  {
   "cell_type": "code",
   "execution_count": 5,
   "metadata": {
    "collapsed": true
   },
   "outputs": [],
   "source": [
    "# Filters out \"Does not meet credit policy\" loan statuses\n",
    "# Removes 2,749 records\n",
    "df['loan_status_int'] = categorize(df['loan_status'])\n",
    "df = pd.DataFrame(df[df['loan_status_int'] != 4])\n",
    "df = pd.DataFrame(df[df['loan_status_int'] != 5])\n",
    "df = df.drop(['loan_status_int'], axis=1)\n",
    "\n",
    "#df.groupby(['loan_status']).size()"
   ]
  },
  {
   "cell_type": "code",
   "execution_count": 6,
   "metadata": {},
   "outputs": [
    {
     "name": "stdout",
     "output_type": "stream",
     "text": [
      "<class 'pandas.core.frame.DataFrame'>\n",
      "Int64Index: 884630 entries, 0 to 887378\n",
      "Data columns (total 61 columns):\n",
      "member_id                      884630 non-null int64\n",
      "loan_amnt                      884630 non-null float64\n",
      "funded_amnt                    884630 non-null float64\n",
      "funded_amnt_inv                884630 non-null float64\n",
      "term                           884630 non-null object\n",
      "int_rate                       884630 non-null float64\n",
      "installment                    884630 non-null float64\n",
      "grade                          884630 non-null object\n",
      "sub_grade                      884630 non-null object\n",
      "emp_length                     884630 non-null object\n",
      "home_ownership                 884630 non-null object\n",
      "annual_inc                     884630 non-null float64\n",
      "verification_status            884630 non-null object\n",
      "issue_d                        884630 non-null object\n",
      "loan_status                    884630 non-null object\n",
      "pymnt_plan                     884630 non-null object\n",
      "purpose                        884630 non-null object\n",
      "addr_state                     884630 non-null object\n",
      "dti                            884630 non-null float64\n",
      "delinq_2yrs                    884630 non-null float64\n",
      "inq_last_6mths                 884630 non-null float64\n",
      "mths_since_last_delinq         431517 non-null float64\n",
      "mths_since_last_record         136193 non-null float64\n",
      "open_acc                       884630 non-null float64\n",
      "pub_rec                        884630 non-null float64\n",
      "revol_bal                      884630 non-null float64\n",
      "revol_util                     884168 non-null float64\n",
      "total_acc                      884630 non-null float64\n",
      "initial_list_status            884630 non-null object\n",
      "out_prncp                      884630 non-null float64\n",
      "out_prncp_inv                  884630 non-null float64\n",
      "total_pymnt                    884630 non-null float64\n",
      "total_pymnt_inv                884630 non-null float64\n",
      "recoveries                     884630 non-null float64\n",
      "collection_recovery_fee        884630 non-null float64\n",
      "last_pymnt_amnt                884630 non-null float64\n",
      "last_credit_pull_d             884579 non-null object\n",
      "collections_12_mths_ex_med     884574 non-null float64\n",
      "mths_since_last_major_derog    221703 non-null float64\n",
      "annual_inc_joint               511 non-null float64\n",
      "dti_joint                      509 non-null float64\n",
      "verification_status_joint      511 non-null object\n",
      "acc_now_delinq                 884630 non-null float64\n",
      "tot_coll_amt                   817103 non-null float64\n",
      "tot_cur_bal                    817103 non-null float64\n",
      "open_acc_6m                    21372 non-null float64\n",
      "open_il_6m                     21372 non-null float64\n",
      "open_il_12m                    21372 non-null float64\n",
      "open_il_24m                    21372 non-null float64\n",
      "mths_since_rcnt_il             20810 non-null float64\n",
      "total_bal_il                   21372 non-null float64\n",
      "il_util                        18617 non-null float64\n",
      "open_rv_12m                    21372 non-null float64\n",
      "open_rv_24m                    21372 non-null float64\n",
      "max_bal_bc                     21372 non-null float64\n",
      "all_util                       21372 non-null float64\n",
      "total_rev_hi_lim               817103 non-null float64\n",
      "inq_fi                         21372 non-null float64\n",
      "total_cu_tl                    21372 non-null float64\n",
      "inq_last_12m                   21372 non-null float64\n",
      "joint_application              884630 non-null int64\n",
      "dtypes: float64(45), int64(2), object(14)\n",
      "memory usage: 418.4+ MB\n"
     ]
    }
   ],
   "source": [
    "# Need to drop or categorize object types\n",
    "df.info()"
   ]
  },
  {
   "cell_type": "code",
   "execution_count": 7,
   "metadata": {
    "scrolled": true
   },
   "outputs": [
    {
     "data": {
      "text/plain": [
       "member_id                      False\n",
       "loan_amnt                      False\n",
       "funded_amnt                    False\n",
       "funded_amnt_inv                False\n",
       "term                           False\n",
       "int_rate                       False\n",
       "installment                    False\n",
       "grade                          False\n",
       "sub_grade                      False\n",
       "emp_length                     False\n",
       "home_ownership                 False\n",
       "annual_inc                     False\n",
       "verification_status            False\n",
       "issue_d                        False\n",
       "loan_status                    False\n",
       "pymnt_plan                     False\n",
       "purpose                        False\n",
       "addr_state                     False\n",
       "dti                            False\n",
       "delinq_2yrs                    False\n",
       "inq_last_6mths                 False\n",
       "mths_since_last_delinq          True\n",
       "mths_since_last_record          True\n",
       "open_acc                       False\n",
       "pub_rec                        False\n",
       "revol_bal                      False\n",
       "revol_util                      True\n",
       "total_acc                      False\n",
       "initial_list_status            False\n",
       "out_prncp                      False\n",
       "                               ...  \n",
       "total_pymnt                    False\n",
       "total_pymnt_inv                False\n",
       "recoveries                     False\n",
       "collection_recovery_fee        False\n",
       "last_pymnt_amnt                False\n",
       "last_credit_pull_d              True\n",
       "collections_12_mths_ex_med      True\n",
       "mths_since_last_major_derog     True\n",
       "annual_inc_joint                True\n",
       "dti_joint                       True\n",
       "verification_status_joint       True\n",
       "acc_now_delinq                 False\n",
       "tot_coll_amt                    True\n",
       "tot_cur_bal                     True\n",
       "open_acc_6m                     True\n",
       "open_il_6m                      True\n",
       "open_il_12m                     True\n",
       "open_il_24m                     True\n",
       "mths_since_rcnt_il              True\n",
       "total_bal_il                    True\n",
       "il_util                         True\n",
       "open_rv_12m                     True\n",
       "open_rv_24m                     True\n",
       "max_bal_bc                      True\n",
       "all_util                        True\n",
       "total_rev_hi_lim                True\n",
       "inq_fi                          True\n",
       "total_cu_tl                     True\n",
       "inq_last_12m                    True\n",
       "joint_application              False\n",
       "Length: 61, dtype: bool"
      ]
     },
     "execution_count": 7,
     "metadata": {},
     "output_type": "execute_result"
    }
   ],
   "source": [
    "# We may have to drop columns with nulls\n",
    "df.isnull().any()"
   ]
  },
  {
   "cell_type": "markdown",
   "metadata": {
    "collapsed": true
   },
   "source": [
    "## Analysis"
   ]
  },
  {
   "cell_type": "markdown",
   "metadata": {},
   "source": [
    "### A. Employement Length For Issued Loans"
   ]
  },
  {
   "cell_type": "code",
   "execution_count": 8,
   "metadata": {},
   "outputs": [
    {
     "data": {
      "text/plain": [
       "array(['10+ years', '0.5', '1 year', '3 years', '8 years', '9 years',\n",
       "       '4 years', '5 years', '6 years', '2 years', '7 years', 'n/a'], dtype=object)"
      ]
     },
     "execution_count": 8,
     "metadata": {},
     "output_type": "execute_result"
    }
   ],
   "source": [
    "# make temporary dataframe in order to keep original dataframe\n",
    "df_copy = df.copy()\n",
    "df_copy[\"emp_length\"] = [\"0.5\" if x == '< 1 year' else x for x in df_copy[\"emp_length\"]]\n",
    "\n",
    "# check employment length\n",
    "df_copy.emp_length.unique()"
   ]
  },
  {
   "cell_type": "code",
   "execution_count": 9,
   "metadata": {
    "collapsed": true
   },
   "outputs": [],
   "source": [
    "# Using regex to easy convert\n",
    "\n",
    "import re\n",
    "reg = re.compile(r'(\\d+\\.?\\d?)')\n",
    "t = []\n",
    "for emp in df_copy.emp_length:\n",
    "    value = reg.match(emp)\n",
    "    t.append(float(value[0]) if value else 0)\n",
    "df_copy['emp'] = t\n",
    "\n",
    "# < 1 years is denoted by 0.5\n",
    "# n/a is considered 0\n",
    "# 10+ years is denoted 10 years"
   ]
  },
  {
   "cell_type": "code",
   "execution_count": 10,
   "metadata": {
    "collapsed": true
   },
   "outputs": [],
   "source": [
    "f = pd.value_counts(df_copy['emp']).to_frame().reset_index()\n",
    "f.columns = ['type','count']"
   ]
  },
  {
   "cell_type": "code",
   "execution_count": 11,
   "metadata": {
    "scrolled": false
   },
   "outputs": [
    {
     "data": {
      "image/png": "[encoded data removed]",
      "text/plain": [
       "<matplotlib.figure.Figure at 0x7f93d7be7518>"
      ]
     },
     "metadata": {},
     "output_type": "display_data"
    }
   ],
   "source": [
    "plt.subplots(figsize=(15,6))\n",
    "sns.barplot(y='count', x='type', data=f)\n",
    "plt.xlabel(\"Length\")\n",
    "plt.ylabel(\"Count\")\n",
    "plt.title(\"Distribution of Employement Length For Issued Loans\")\n",
    "plt.show()"
   ]
  },
  {
   "cell_type": "markdown",
   "metadata": {},
   "source": [
    "### Summary\n",
    "- People work for **10+ years** have the highest loan issue number(291,569) which is almost three times higher than second place(**0**, 115,430)"
   ]
  },
  {
   "cell_type": "markdown",
   "metadata": {},
   "source": [
    "### B. Loan Status"
   ]
  },
  {
   "cell_type": "code",
   "execution_count": 12,
   "metadata": {},
   "outputs": [
    {
     "name": "stderr",
     "output_type": "stream",
     "text": [
      "/home/richardp/anaconda3/lib/python3.6/site-packages/matplotlib/axes/_axes.py:545: UserWarning: No labelled objects found. Use label='...' kwarg on individual plots.\n",
      "  warnings.warn(\"No labelled objects found. \"\n"
     ]
    },
    {
     "data": {
      "image/png": "[encoded data removed]",
      "text/plain": [
       "<matplotlib.figure.Figure at 0x7f93d47f3198>"
      ]
     },
     "metadata": {},
     "output_type": "display_data"
    }
   ],
   "source": [
    "legend = {6:(\"Late (16-30 days)\",'b'),\n",
    "          7:(\"Late (31-120 days)\",'yellow'),\n",
    "          4:(\"In Grace Period\",\"k\"),\n",
    "          2:(\"Default\",'magenta'),\n",
    "          1:(\"Current\", \"orange\"),\n",
    "          0:(\"Charged Off\",\"#512888\"),\n",
    "          5:(\"Issued\",\"#8aa382\"),\n",
    "          3:(\"Fully Paid\",\"#f7cfcf\")}\n",
    "\n",
    "\n",
    "\n",
    "plt.subplots(figsize=(15,6))\n",
    "\n",
    "sns.set_context(\"paper\", font_scale=2)\n",
    "sns.set_style(\"white\")\n",
    "sns.distplot(categorize(df_copy[\"loan_status\"]), kde=False)\n",
    "\n",
    "plt.legend()\n",
    "plt.show()"
   ]
  },
  {
   "cell_type": "code",
   "execution_count": 13,
   "metadata": {},
   "outputs": [
    {
     "data": {
      "text/plain": [
       "<matplotlib.axes._subplots.AxesSubplot at 0x7f93d47c0e10>"
      ]
     },
     "execution_count": 13,
     "metadata": {},
     "output_type": "execute_result"
    },
    {
     "data": {
      "image/png": "[encoded data removed]",
      "text/plain": [
       "<matplotlib.figure.Figure at 0x7f93d487c9b0>"
      ]
     },
     "metadata": {},
     "output_type": "display_data"
    }
   ],
   "source": [
    "# Loan amount by its status\n",
    "plt.subplots(figsize=(20,10))\n",
    "plt.title(\"The distribution of loan amounts by status\").set_size(40)\n",
    "sns.boxplot(x=\"loan_amnt\", y=\"loan_status\", data=df_copy)"
   ]
  },
  {
   "cell_type": "markdown",
   "metadata": {},
   "source": [
    "### Summary\n",
    "- **Default** has the highest count among other **loan status**.\n",
    "- **In Grace Period** and **Late(16~30 days)** have the highest loan amount and mean."
   ]
  },
  {
   "cell_type": "markdown",
   "metadata": {},
   "source": [
    "### C. Loan Amount Base on Grade"
   ]
  },
  {
   "cell_type": "code",
   "execution_count": 14,
   "metadata": {},
   "outputs": [
    {
     "data": {
      "text/plain": [
       "<matplotlib.axes._subplots.AxesSubplot at 0x7f93d44db470>"
      ]
     },
     "execution_count": 14,
     "metadata": {},
     "output_type": "execute_result"
    },
    {
     "data": {
      "image/png": "[encoded data removed]",
      "text/plain": [
       "<matplotlib.figure.Figure at 0x7f93d7be7160>"
      ]
     },
     "metadata": {},
     "output_type": "display_data"
    }
   ],
   "source": [
    "group = df_copy.groupby(\"grade\").mean()\n",
    "avg_loan = group['loan_amnt'].reset_index()\n",
    "plt.subplots(figsize=(15,9))\n",
    "sns.barplot(x='grade', y='loan_amnt', data=avg_loan, palette='Set2')"
   ]
  },
  {
   "cell_type": "markdown",
   "metadata": {},
   "source": [
    "### Summary\n",
    "- The lower grade, the higher loan amount loan issued"
   ]
  },
  {
   "cell_type": "markdown",
   "metadata": {},
   "source": [
    "### D. Region"
   ]
  },
  {
   "cell_type": "code",
   "execution_count": 15,
   "metadata": {},
   "outputs": [
    {
     "data": {
      "text/html": [
       "<script>requirejs.config({paths: { 'plotly': ['https://cdn.plot.ly/plotly-latest.min']},});if(!window.Plotly) {{require(['plotly'],function(plotly) {window.Plotly=plotly;});}}</script>"
      ],
      "text/vnd.plotly.v1+html": [
       "<script>requirejs.config({paths: { 'plotly': ['https://cdn.plot.ly/plotly-latest.min']},});if(!window.Plotly) {{require(['plotly'],function(plotly) {window.Plotly=plotly;});}}</script>"
      ]
     },
     "metadata": {},
     "output_type": "display_data"
    }
   ],
   "source": [
    "# Import map visulization libraries\n",
    "import plotly.plotly as py\n",
    "import plotly.graph_objs as go\n",
    "from plotly import tools\n",
    "from plotly.offline import download_plotlyjs, init_notebook_mode, plot, iplot\n",
    "init_notebook_mode(connected=True)"
   ]
  },
  {
   "cell_type": "code",
   "execution_count": 16,
   "metadata": {
    "collapsed": true
   },
   "outputs": [],
   "source": [
    "# create dataframe that holds values by state.\n",
    "loan_amnt_by_state = df_copy.groupby([\"addr_state\"]).sum()[\"loan_amnt\"]\n",
    "df_region = loan_amnt_by_state.to_frame()\n",
    "df_region[\"loan_amnt\"] = df_region[\"loan_amnt\"].map(\"{:,.0f}\".format)\n",
    "temp = []\n",
    "for x in df_region[\"loan_amnt\"]:\n",
    "    a = int(x.replace(',', ''))\n",
    "    temp.append(a)\n",
    "df_region[\"loan_amnt\"] = temp\n",
    "\n",
    "# count number of loan issued\n",
    "num_issued_loan = df_copy.groupby([\"addr_state\"]).count()[\"member_id\"]\n",
    "df_region[\"num_issued\"] = num_issued_loan\n",
    "\n",
    "# Average loan amount\n",
    "avg_loan_amnt_by_state = []\n",
    "for a,b in zip(df_region[\"loan_amnt\"], df_region[\"num_issued\"]):\n",
    "    temp = int(a/b)\n",
    "    avg_loan_amnt_by_state.append(temp)\n",
    "df_region[\"avg_loan_amnt_by_state\"] = avg_loan_amnt_by_state\n",
    "\n",
    "# Average employment length\n",
    "total_year = df_copy.groupby([\"addr_state\"]).sum()[\"emp\"]\n",
    "temp = []\n",
    "for a, b in zip(total_year, df_region.num_issued):\n",
    "    value = (a/b)\n",
    "    value = \"{0:.2f}\".format(value)\n",
    "    value = float(value)\n",
    "    temp.append(value)\n",
    "df_region[\"avg_emp_length_by_state\"] = temp\n",
    "\n",
    "\n"
   ]
  },
  {
   "cell_type": "code",
   "execution_count": 17,
   "metadata": {},
   "outputs": [
    {
     "data": {
      "text/plain": [
       "Index(['AK', 'AL', 'AR', 'AZ', 'CA', 'CO', 'CT', 'DC', 'DE', 'FL', 'GA', 'HI',\n",
       "       'IA', 'ID', 'IL', 'IN', 'KS', 'KY', 'LA', 'MA', 'MD', 'ME', 'MI', 'MN',\n",
       "       'MO', 'MS', 'MT', 'NC', 'ND', 'NE', 'NH', 'NJ', 'NM', 'NV', 'NY', 'OH',\n",
       "       'OK', 'OR', 'PA', 'RI', 'SC', 'SD', 'TN', 'TX', 'UT', 'VA', 'VT', 'WA',\n",
       "       'WI', 'WV', 'WY'],\n",
       "      dtype='object', name='addr_state')"
      ]
     },
     "execution_count": 17,
     "metadata": {},
     "output_type": "execute_result"
    }
   ],
   "source": [
    "df_region_copy = df_region.copy()\n",
    "addr_state = df_region_copy.index\n",
    "addr_state.astype(str)"
   ]
  },
  {
   "cell_type": "code",
   "execution_count": 18,
   "metadata": {},
   "outputs": [
    {
     "name": "stdout",
     "output_type": "stream",
     "text": [
      "<class 'pandas.core.frame.DataFrame'>\n",
      "Int64Index: 51 entries, 1 to 51\n",
      "Data columns (total 5 columns):\n",
      "loan_amnt                  51 non-null int64\n",
      "num_issued                 51 non-null int64\n",
      "avg_loan_amnt_by_state     51 non-null int64\n",
      "avg_emp_length_by_state    51 non-null float64\n",
      "addr_state                 51 non-null object\n",
      "dtypes: float64(1), int64(3), object(1)\n",
      "memory usage: 2.4+ KB\n"
     ]
    }
   ],
   "source": [
    "df_region.index = list(range(1,52))\n",
    "df_region[\"addr_state\"] = addr_state\n",
    "df_region.info()"
   ]
  },
  {
   "cell_type": "code",
   "execution_count": 19,
   "metadata": {
    "collapsed": true
   },
   "outputs": [],
   "source": [
    "# plotly color setting\n",
    "for col in df_copy.columns:\n",
    "    df_copy[col] = df_copy[col].astype(str)\n",
    "    scl = [[0.0, 'rgb(242,240,247)'],[0.2, 'rgb(218,218,235)'],[0.4, 'rgb(188,189,220)'],\\\n",
    "            [0.6, 'rgb(158,154,200)'],[0.8, 'rgb(117,107,177)'],[1.0, 'rgb(84,39,143)']]\n",
    "\n",
    "\n",
    "# create text column\n",
    "df_region[\"text\"] = df_region[\"addr_state\"] + '<br>' + \"Total loan amount ($ USD): \" + df_region[\"loan_amnt\"].astype(str) + \"<br>\" + \"Avg loan amount ($ USD): \" + df_region[\"avg_loan_amnt_by_state\"].astype(str) + '<br>' + \"Avg employment length (Years): \" + df_region[\"avg_emp_length_by_state\"].astype(str)\n"
   ]
  },
  {
   "cell_type": "code",
   "execution_count": 20,
   "metadata": {},
   "outputs": [
    {
     "data": {
      "application/vnd.plotly.v1+json": {
       "data": [
        {
         "autocolorscale": false,
         "colorbar": {
          "title": "$s USD"
         },
         "colorscale": [
          [
           0,
           "rgb(242,240,247)"
          ],
          [
           0.2,
           "rgb(218,218,235)"
          ],
          [
           0.4,
           "rgb(188,189,220)"
          ],
          [
           0.6,
           "rgb(158,154,200)"
          ],
          [
           0.8,
           "rgb(117,107,177)"
          ],
          [
           1,
           "rgb(84,39,143)"
          ]
         ],
         "locationmode": "USA-states",
         "locations": [
          "AK",
          "AL",
          "AR",
          "AZ",
          "CA",
          "CO",
          "CT",
          "DC",
          "DE",
          "FL",
          "GA",
          "HI",
          "IA",
          "ID",
          "IL",
          "IN",
          "KS",
          "KY",
          "LA",
          "MA",
          "MD",
          "ME",
          "MI",
          "MN",
          "MO",
          "MS",
          "MT",
          "NC",
          "ND",
          "NE",
          "NH",
          "NJ",
          "NM",
          "NV",
          "NY",
          "OH",
          "OK",
          "OR",
          "PA",
          "RI",
          "SC",
          "SD",
          "TN",
          "TX",
          "UT",
          "VA",
          "VT",
          "WA",
          "WI",
          "WV",
          "WY"
         ],
         "marker": {
          "line": {
           "color": "rgb(255,255,255)",
           "width": 2
          }
         },
         "text": [
          "AK<br>Total loan amount ($ USD): 36922750<br>Avg loan amount ($ USD): 16783<br>Avg employment length (Years): 6.04",
          "AL<br>Total loan amount ($ USD): 164345400<br>Avg loan amount ($ USD): 14715<br>Avg employment length (Years): 6.18",
          "AR<br>Total loan amount ($ USD): 93323625<br>Avg loan amount ($ USD): 14086<br>Avg employment length (Years): 5.94",
          "AZ<br>Total loan amount ($ USD): 289628250<br>Avg loan amount ($ USD): 14224<br>Avg employment length (Years): 5.42",
          "CA<br>Total loan amount ($ USD): 1894778300<br>Avg loan amount ($ USD): 14666<br>Avg employment length (Years): 5.7",
          "CO<br>Total loan amount ($ USD): 280610975<br>Avg loan amount ($ USD): 14972<br>Avg employment length (Years): 5.31",
          "CT<br>Total loan amount ($ USD): 202433325<br>Avg loan amount ($ USD): 15029<br>Avg employment length (Years): 5.97",
          "DC<br>Total loan amount ($ USD): 36779000<br>Avg loan amount ($ USD): 15185<br>Avg employment length (Years): 4.48",
          "DE<br>Total loan amount ($ USD): 36693475<br>Avg loan amount ($ USD): 14742<br>Avg employment length (Years): 5.99",
          "FL<br>Total loan amount ($ USD): 847066600<br>Avg loan amount ($ USD): 13954<br>Avg employment length (Years): 5.46",
          "GA<br>Total loan amount ($ USD): 433731450<br>Avg loan amount ($ USD): 14966<br>Avg employment length (Years): 5.76",
          "HI<br>Total loan amount ($ USD): 69455900<br>Avg loan amount ($ USD): 15221<br>Avg employment length (Years): 6.31",
          "IA<br>Total loan amount ($ USD): 70375<br>Avg loan amount ($ USD): 10053<br>Avg employment length (Years): 2.93",
          "ID<br>Total loan amount ($ USD): 75750<br>Avg loan amount ($ USD): 8416<br>Avg employment length (Years): 2.28",
          "IL<br>Total loan amount ($ USD): 537513675<br>Avg loan amount ($ USD): 15214<br>Avg employment length (Years): 5.79",
          "IN<br>Total loan amount ($ USD): 202436050<br>Avg loan amount ($ USD): 14691<br>Avg employment length (Years): 6.06",
          "KS<br>Total loan amount ($ USD): 116204700<br>Avg loan amount ($ USD): 14709<br>Avg employment length (Years): 5.95",
          "KY<br>Total loan amount ($ USD): 121822925<br>Avg loan amount ($ USD): 14301<br>Avg employment length (Years): 6.04",
          "LA<br>Total loan amount ($ USD): 156719575<br>Avg loan amount ($ USD): 14838<br>Avg employment length (Years): 5.74",
          "MA<br>Total loan amount ($ USD): 322029150<br>Avg loan amount ($ USD): 15709<br>Avg employment length (Years): 5.71",
          "MD<br>Total loan amount ($ USD): 324815325<br>Avg loan amount ($ USD): 15496<br>Avg employment length (Years): 5.89",
          "ME<br>Total loan amount ($ USD): 8131825<br>Avg loan amount ($ USD): 15489<br>Avg employment length (Years): 5.44",
          "MI<br>Total loan amount ($ USD): 325842150<br>Avg loan amount ($ USD): 14222<br>Avg employment length (Years): 5.92",
          "MN<br>Total loan amount ($ USD): 228399000<br>Avg loan amount ($ USD): 14345<br>Avg employment length (Years): 5.76",
          "MO<br>Total loan amount ($ USD): 204253750<br>Avg loan amount ($ USD): 14457<br>Avg employment length (Years): 5.91",
          "MS<br>Total loan amount ($ USD): 56997425<br>Avg loan amount ($ USD): 14952<br>Avg employment length (Years): 6.05",
          "MT<br>Total loan amount ($ USD): 35174400<br>Avg loan amount ($ USD): 13810<br>Avg employment length (Years): 5.75",
          "NC<br>Total loan amount ($ USD): 361604525<br>Avg loan amount ($ USD): 14652<br>Avg employment length (Years): 5.73",
          "ND<br>Total loan amount ($ USD): 7447300<br>Avg loan amount ($ USD): 15547<br>Avg employment length (Years): 4.96",
          "NE<br>Total loan amount ($ USD): 17097800<br>Avg loan amount ($ USD): 14613<br>Avg employment length (Years): 5.62",
          "NH<br>Total loan amount ($ USD): 63392975<br>Avg loan amount ($ USD): 14818<br>Avg employment length (Years): 5.99",
          "NJ<br>Total loan amount ($ USD): 514184225<br>Avg loan amount ($ USD): 15523<br>Avg employment length (Years): 5.83",
          "NM<br>Total loan amount ($ USD): 73521375<br>Avg loan amount ($ USD): 14931<br>Avg employment length (Years): 5.76",
          "NV<br>Total loan amount ($ USD): 172241400<br>Avg loan amount ($ USD): 13874<br>Avg employment length (Years): 5.54",
          "NY<br>Total loan amount ($ USD): 1074616675<br>Avg loan amount ($ USD): 14553<br>Avg employment length (Years): 5.75",
          "OH<br>Total loan amount ($ USD): 421811325<br>Avg loan amount ($ USD): 14285<br>Avg employment length (Years): 6.03",
          "OK<br>Total loan amount ($ USD): 119851900<br>Avg loan amount ($ USD): 14855<br>Avg employment length (Years): 5.74",
          "OR<br>Total loan amount ($ USD): 149249600<br>Avg loan amount ($ USD): 13722<br>Avg employment length (Years): 5.52",
          "PA<br>Total loan amount ($ USD): 454476525<br>Avg loan amount ($ USD): 14538<br>Avg employment length (Years): 5.87",
          "RI<br>Total loan amount ($ USD): 54978575<br>Avg loan amount ($ USD): 14155<br>Avg employment length (Years): 6.18",
          "SC<br>Total loan amount ($ USD): 157538075<br>Avg loan amount ($ USD): 14831<br>Avg employment length (Years): 5.74",
          "SD<br>Total loan amount ($ USD): 24873700<br>Avg loan amount ($ USD): 13727<br>Avg employment length (Years): 5.84",
          "TN<br>Total loan amount ($ USD): 191890875<br>Avg loan amount ($ USD): 14907<br>Avg employment length (Years): 5.9",
          "TX<br>Total loan amount ($ USD): 1107437600<br>Avg loan amount ($ USD): 15607<br>Avg employment length (Years): 5.62",
          "UT<br>Total loan amount ($ USD): 91691450<br>Avg loan amount ($ USD): 14682<br>Avg employment length (Years): 5.78",
          "VA<br>Total loan amount ($ USD): 410411175<br>Avg loan amount ($ USD): 15678<br>Avg employment length (Years): 5.8",
          "VT<br>Total loan amount ($ USD): 25163250<br>Avg loan amount ($ USD): 14026<br>Avg employment length (Years): 6.15",
          "WA<br>Total loan amount ($ USD): 288840000<br>Avg loan amount ($ USD): 14897<br>Avg employment length (Years): 5.69",
          "WI<br>Total loan amount ($ USD): 164869150<br>Avg loan amount ($ USD): 14314<br>Avg employment length (Years): 6.09",
          "WV<br>Total loan amount ($ USD): 64193875<br>Avg loan amount ($ USD): 14669<br>Avg employment length (Years): 5.93",
          "WY<br>Total loan amount ($ USD): 31023025<br>Avg loan amount ($ USD): 15327<br>Avg employment length (Years): 5.95"
         ],
         "type": "choropleth",
         "z": [
          36922750,
          164345400,
          93323625,
          289628250,
          1894778300,
          280610975,
          202433325,
          36779000,
          36693475,
          847066600,
          433731450,
          69455900,
          70375,
          75750,
          537513675,
          202436050,
          116204700,
          121822925,
          156719575,
          322029150,
          324815325,
          8131825,
          325842150,
          228399000,
          204253750,
          56997425,
          35174400,
          361604525,
          7447300,
          17097800,
          63392975,
          514184225,
          73521375,
          172241400,
          1074616675,
          421811325,
          119851900,
          149249600,
          454476525,
          54978575,
          157538075,
          24873700,
          191890875,
          1107437600,
          91691450,
          410411175,
          25163250,
          288840000,
          164869150,
          64193875,
          31023025
         ]
        }
       ],
       "layout": {
        "geo": {
         "lakecolor": "rgb(255, 255, 255)",
         "projection": {
          "type": "albers usa"
         },
         "scope": "usa",
         "showlakes": true
        },
        "title": "Lending Club Loan<br> Total Loan By State"
       }
      },
      "text/html": [
       "<div id=\"23dacdd5-0379-4155-8a40-f7fb81121363\" style=\"height: 525px; width: 100%;\" class=\"plotly-graph-div\"></div><script type=\"text/javascript\">require([\"plotly\"], function(Plotly) { window.PLOTLYENV=window.PLOTLYENV || {};window.PLOTLYENV.BASE_URL=\"https://plot.ly\";Plotly.newPlot(\"23dacdd5-0379-4155-8a40-f7fb81121363\", [{\"type\": \"choropleth\", \"colorscale\": [[0.0, \"rgb(242,240,247)\"], [0.2, \"rgb(218,218,235)\"], [0.4, \"rgb(188,189,220)\"], [0.6, \"rgb(158,154,200)\"], [0.8, \"rgb(117,107,177)\"], [1.0, \"rgb(84,39,143)\"]], \"autocolorscale\": false, \"locations\": [\"AK\", \"AL\", \"AR\", \"AZ\", \"CA\", \"CO\", \"CT\", \"DC\", \"DE\", \"FL\", \"GA\", \"HI\", \"IA\", \"ID\", \"IL\", \"IN\", \"KS\", \"KY\", \"LA\", \"MA\", \"MD\", \"ME\", \"MI\", \"MN\", \"MO\", \"MS\", \"MT\", \"NC\", \"ND\", \"NE\", \"NH\", \"NJ\", \"NM\", \"NV\", \"NY\", \"OH\", \"OK\", \"OR\", \"PA\", \"RI\", \"SC\", \"SD\", \"TN\", \"TX\", \"UT\", \"VA\", \"VT\", \"WA\", \"WI\", \"WV\", \"WY\"], \"z\": [36922750, 164345400, 93323625, 289628250, 1894778300, 280610975, 202433325, 36779000, 36693475, 847066600, 433731450, 69455900, 70375, 75750, 537513675, 202436050, 116204700, 121822925, 156719575, 322029150, 324815325, 8131825, 325842150, 228399000, 204253750, 56997425, 35174400, 361604525, 7447300, 17097800, 63392975, 514184225, 73521375, 172241400, 1074616675, 421811325, 119851900, 149249600, 454476525, 54978575, 157538075, 24873700, 191890875, 1107437600, 91691450, 410411175, 25163250, 288840000, 164869150, 64193875, 31023025], \"locationmode\": \"USA-states\", \"text\": [\"AK<br>Total loan amount ($ USD): 36922750<br>Avg loan amount ($ USD): 16783<br>Avg employment length (Years): 6.04\", \"AL<br>Total loan amount ($ USD): 164345400<br>Avg loan amount ($ USD): 14715<br>Avg employment length (Years): 6.18\", \"AR<br>Total loan amount ($ USD): 93323625<br>Avg loan amount ($ USD): 14086<br>Avg employment length (Years): 5.94\", \"AZ<br>Total loan amount ($ USD): 289628250<br>Avg loan amount ($ USD): 14224<br>Avg employment length (Years): 5.42\", \"CA<br>Total loan amount ($ USD): 1894778300<br>Avg loan amount ($ USD): 14666<br>Avg employment length (Years): 5.7\", \"CO<br>Total loan amount ($ USD): 280610975<br>Avg loan amount ($ USD): 14972<br>Avg employment length (Years): 5.31\", \"CT<br>Total loan amount ($ USD): 202433325<br>Avg loan amount ($ USD): 15029<br>Avg employment length (Years): 5.97\", \"DC<br>Total loan amount ($ USD): 36779000<br>Avg loan amount ($ USD): 15185<br>Avg employment length (Years): 4.48\", \"DE<br>Total loan amount ($ USD): 36693475<br>Avg loan amount ($ USD): 14742<br>Avg employment length (Years): 5.99\", \"FL<br>Total loan amount ($ USD): 847066600<br>Avg loan amount ($ USD): 13954<br>Avg employment length (Years): 5.46\", \"GA<br>Total loan amount ($ USD): 433731450<br>Avg loan amount ($ USD): 14966<br>Avg employment length (Years): 5.76\", \"HI<br>Total loan amount ($ USD): 69455900<br>Avg loan amount ($ USD): 15221<br>Avg employment length (Years): 6.31\", \"IA<br>Total loan amount ($ USD): 70375<br>Avg loan amount ($ USD): 10053<br>Avg employment length (Years): 2.93\", \"ID<br>Total loan amount ($ USD): 75750<br>Avg loan amount ($ USD): 8416<br>Avg employment length (Years): 2.28\", \"IL<br>Total loan amount ($ USD): 537513675<br>Avg loan amount ($ USD): 15214<br>Avg employment length (Years): 5.79\", \"IN<br>Total loan amount ($ USD): 202436050<br>Avg loan amount ($ USD): 14691<br>Avg employment length (Years): 6.06\", \"KS<br>Total loan amount ($ USD): 116204700<br>Avg loan amount ($ USD): 14709<br>Avg employment length (Years): 5.95\", \"KY<br>Total loan amount ($ USD): 121822925<br>Avg loan amount ($ USD): 14301<br>Avg employment length (Years): 6.04\", \"LA<br>Total loan amount ($ USD): 156719575<br>Avg loan amount ($ USD): 14838<br>Avg employment length (Years): 5.74\", \"MA<br>Total loan amount ($ USD): 322029150<br>Avg loan amount ($ USD): 15709<br>Avg employment length (Years): 5.71\", \"MD<br>Total loan amount ($ USD): 324815325<br>Avg loan amount ($ USD): 15496<br>Avg employment length (Years): 5.89\", \"ME<br>Total loan amount ($ USD): 8131825<br>Avg loan amount ($ USD): 15489<br>Avg employment length (Years): 5.44\", \"MI<br>Total loan amount ($ USD): 325842150<br>Avg loan amount ($ USD): 14222<br>Avg employment length (Years): 5.92\", \"MN<br>Total loan amount ($ USD): 228399000<br>Avg loan amount ($ USD): 14345<br>Avg employment length (Years): 5.76\", \"MO<br>Total loan amount ($ USD): 204253750<br>Avg loan amount ($ USD): 14457<br>Avg employment length (Years): 5.91\", \"MS<br>Total loan amount ($ USD): 56997425<br>Avg loan amount ($ USD): 14952<br>Avg employment length (Years): 6.05\", \"MT<br>Total loan amount ($ USD): 35174400<br>Avg loan amount ($ USD): 13810<br>Avg employment length (Years): 5.75\", \"NC<br>Total loan amount ($ USD): 361604525<br>Avg loan amount ($ USD): 14652<br>Avg employment length (Years): 5.73\", \"ND<br>Total loan amount ($ USD): 7447300<br>Avg loan amount ($ USD): 15547<br>Avg employment length (Years): 4.96\", \"NE<br>Total loan amount ($ USD): 17097800<br>Avg loan amount ($ USD): 14613<br>Avg employment length (Years): 5.62\", \"NH<br>Total loan amount ($ USD): 63392975<br>Avg loan amount ($ USD): 14818<br>Avg employment length (Years): 5.99\", \"NJ<br>Total loan amount ($ USD): 514184225<br>Avg loan amount ($ USD): 15523<br>Avg employment length (Years): 5.83\", \"NM<br>Total loan amount ($ USD): 73521375<br>Avg loan amount ($ USD): 14931<br>Avg employment length (Years): 5.76\", \"NV<br>Total loan amount ($ USD): 172241400<br>Avg loan amount ($ USD): 13874<br>Avg employment length (Years): 5.54\", \"NY<br>Total loan amount ($ USD): 1074616675<br>Avg loan amount ($ USD): 14553<br>Avg employment length (Years): 5.75\", \"OH<br>Total loan amount ($ USD): 421811325<br>Avg loan amount ($ USD): 14285<br>Avg employment length (Years): 6.03\", \"OK<br>Total loan amount ($ USD): 119851900<br>Avg loan amount ($ USD): 14855<br>Avg employment length (Years): 5.74\", \"OR<br>Total loan amount ($ USD): 149249600<br>Avg loan amount ($ USD): 13722<br>Avg employment length (Years): 5.52\", \"PA<br>Total loan amount ($ USD): 454476525<br>Avg loan amount ($ USD): 14538<br>Avg employment length (Years): 5.87\", \"RI<br>Total loan amount ($ USD): 54978575<br>Avg loan amount ($ USD): 14155<br>Avg employment length (Years): 6.18\", \"SC<br>Total loan amount ($ USD): 157538075<br>Avg loan amount ($ USD): 14831<br>Avg employment length (Years): 5.74\", \"SD<br>Total loan amount ($ USD): 24873700<br>Avg loan amount ($ USD): 13727<br>Avg employment length (Years): 5.84\", \"TN<br>Total loan amount ($ USD): 191890875<br>Avg loan amount ($ USD): 14907<br>Avg employment length (Years): 5.9\", \"TX<br>Total loan amount ($ USD): 1107437600<br>Avg loan amount ($ USD): 15607<br>Avg employment length (Years): 5.62\", \"UT<br>Total loan amount ($ USD): 91691450<br>Avg loan amount ($ USD): 14682<br>Avg employment length (Years): 5.78\", \"VA<br>Total loan amount ($ USD): 410411175<br>Avg loan amount ($ USD): 15678<br>Avg employment length (Years): 5.8\", \"VT<br>Total loan amount ($ USD): 25163250<br>Avg loan amount ($ USD): 14026<br>Avg employment length (Years): 6.15\", \"WA<br>Total loan amount ($ USD): 288840000<br>Avg loan amount ($ USD): 14897<br>Avg employment length (Years): 5.69\", \"WI<br>Total loan amount ($ USD): 164869150<br>Avg loan amount ($ USD): 14314<br>Avg employment length (Years): 6.09\", \"WV<br>Total loan amount ($ USD): 64193875<br>Avg loan amount ($ USD): 14669<br>Avg employment length (Years): 5.93\", \"WY<br>Total loan amount ($ USD): 31023025<br>Avg loan amount ($ USD): 15327<br>Avg employment length (Years): 5.95\"], \"marker\": {\"line\": {\"color\": \"rgb(255,255,255)\", \"width\": 2}}, \"colorbar\": {\"title\": \"$s USD\"}}], {\"title\": \"Lending Club Loan<br> Total Loan By State\", \"geo\": {\"scope\": \"usa\", \"projection\": {\"type\": \"albers usa\"}, \"showlakes\": true, \"lakecolor\": \"rgb(255, 255, 255)\"}}, {\"showLink\": true, \"linkText\": \"Export to plot.ly\"})});</script>"
      ],
      "text/vnd.plotly.v1+html": [
       "<div id=\"23dacdd5-0379-4155-8a40-f7fb81121363\" style=\"height: 525px; width: 100%;\" class=\"plotly-graph-div\"></div><script type=\"text/javascript\">require([\"plotly\"], function(Plotly) { window.PLOTLYENV=window.PLOTLYENV || {};window.PLOTLYENV.BASE_URL=\"https://plot.ly\";Plotly.newPlot(\"23dacdd5-0379-4155-8a40-f7fb81121363\", [{\"type\": \"choropleth\", \"colorscale\": [[0.0, \"rgb(242,240,247)\"], [0.2, \"rgb(218,218,235)\"], [0.4, \"rgb(188,189,220)\"], [0.6, \"rgb(158,154,200)\"], [0.8, \"rgb(117,107,177)\"], [1.0, \"rgb(84,39,143)\"]], \"autocolorscale\": false, \"locations\": [\"AK\", \"AL\", \"AR\", \"AZ\", \"CA\", \"CO\", \"CT\", \"DC\", \"DE\", \"FL\", \"GA\", \"HI\", \"IA\", \"ID\", \"IL\", \"IN\", \"KS\", \"KY\", \"LA\", \"MA\", \"MD\", \"ME\", \"MI\", \"MN\", \"MO\", \"MS\", \"MT\", \"NC\", \"ND\", \"NE\", \"NH\", \"NJ\", \"NM\", \"NV\", \"NY\", \"OH\", \"OK\", \"OR\", \"PA\", \"RI\", \"SC\", \"SD\", \"TN\", \"TX\", \"UT\", \"VA\", \"VT\", \"WA\", \"WI\", \"WV\", \"WY\"], \"z\": [36922750, 164345400, 93323625, 289628250, 1894778300, 280610975, 202433325, 36779000, 36693475, 847066600, 433731450, 69455900, 70375, 75750, 537513675, 202436050, 116204700, 121822925, 156719575, 322029150, 324815325, 8131825, 325842150, 228399000, 204253750, 56997425, 35174400, 361604525, 7447300, 17097800, 63392975, 514184225, 73521375, 172241400, 1074616675, 421811325, 119851900, 149249600, 454476525, 54978575, 157538075, 24873700, 191890875, 1107437600, 91691450, 410411175, 25163250, 288840000, 164869150, 64193875, 31023025], \"locationmode\": \"USA-states\", \"text\": [\"AK<br>Total loan amount ($ USD): 36922750<br>Avg loan amount ($ USD): 16783<br>Avg employment length (Years): 6.04\", \"AL<br>Total loan amount ($ USD): 164345400<br>Avg loan amount ($ USD): 14715<br>Avg employment length (Years): 6.18\", \"AR<br>Total loan amount ($ USD): 93323625<br>Avg loan amount ($ USD): 14086<br>Avg employment length (Years): 5.94\", \"AZ<br>Total loan amount ($ USD): 289628250<br>Avg loan amount ($ USD): 14224<br>Avg employment length (Years): 5.42\", \"CA<br>Total loan amount ($ USD): 1894778300<br>Avg loan amount ($ USD): 14666<br>Avg employment length (Years): 5.7\", \"CO<br>Total loan amount ($ USD): 280610975<br>Avg loan amount ($ USD): 14972<br>Avg employment length (Years): 5.31\", \"CT<br>Total loan amount ($ USD): 202433325<br>Avg loan amount ($ USD): 15029<br>Avg employment length (Years): 5.97\", \"DC<br>Total loan amount ($ USD): 36779000<br>Avg loan amount ($ USD): 15185<br>Avg employment length (Years): 4.48\", \"DE<br>Total loan amount ($ USD): 36693475<br>Avg loan amount ($ USD): 14742<br>Avg employment length (Years): 5.99\", \"FL<br>Total loan amount ($ USD): 847066600<br>Avg loan amount ($ USD): 13954<br>Avg employment length (Years): 5.46\", \"GA<br>Total loan amount ($ USD): 433731450<br>Avg loan amount ($ USD): 14966<br>Avg employment length (Years): 5.76\", \"HI<br>Total loan amount ($ USD): 69455900<br>Avg loan amount ($ USD): 15221<br>Avg employment length (Years): 6.31\", \"IA<br>Total loan amount ($ USD): 70375<br>Avg loan amount ($ USD): 10053<br>Avg employment length (Years): 2.93\", \"ID<br>Total loan amount ($ USD): 75750<br>Avg loan amount ($ USD): 8416<br>Avg employment length (Years): 2.28\", \"IL<br>Total loan amount ($ USD): 537513675<br>Avg loan amount ($ USD): 15214<br>Avg employment length (Years): 5.79\", \"IN<br>Total loan amount ($ USD): 202436050<br>Avg loan amount ($ USD): 14691<br>Avg employment length (Years): 6.06\", \"KS<br>Total loan amount ($ USD): 116204700<br>Avg loan amount ($ USD): 14709<br>Avg employment length (Years): 5.95\", \"KY<br>Total loan amount ($ USD): 121822925<br>Avg loan amount ($ USD): 14301<br>Avg employment length (Years): 6.04\", \"LA<br>Total loan amount ($ USD): 156719575<br>Avg loan amount ($ USD): 14838<br>Avg employment length (Years): 5.74\", \"MA<br>Total loan amount ($ USD): 322029150<br>Avg loan amount ($ USD): 15709<br>Avg employment length (Years): 5.71\", \"MD<br>Total loan amount ($ USD): 324815325<br>Avg loan amount ($ USD): 15496<br>Avg employment length (Years): 5.89\", \"ME<br>Total loan amount ($ USD): 8131825<br>Avg loan amount ($ USD): 15489<br>Avg employment length (Years): 5.44\", \"MI<br>Total loan amount ($ USD): 325842150<br>Avg loan amount ($ USD): 14222<br>Avg employment length (Years): 5.92\", \"MN<br>Total loan amount ($ USD): 228399000<br>Avg loan amount ($ USD): 14345<br>Avg employment length (Years): 5.76\", \"MO<br>Total loan amount ($ USD): 204253750<br>Avg loan amount ($ USD): 14457<br>Avg employment length (Years): 5.91\", \"MS<br>Total loan amount ($ USD): 56997425<br>Avg loan amount ($ USD): 14952<br>Avg employment length (Years): 6.05\", \"MT<br>Total loan amount ($ USD): 35174400<br>Avg loan amount ($ USD): 13810<br>Avg employment length (Years): 5.75\", \"NC<br>Total loan amount ($ USD): 361604525<br>Avg loan amount ($ USD): 14652<br>Avg employment length (Years): 5.73\", \"ND<br>Total loan amount ($ USD): 7447300<br>Avg loan amount ($ USD): 15547<br>Avg employment length (Years): 4.96\", \"NE<br>Total loan amount ($ USD): 17097800<br>Avg loan amount ($ USD): 14613<br>Avg employment length (Years): 5.62\", \"NH<br>Total loan amount ($ USD): 63392975<br>Avg loan amount ($ USD): 14818<br>Avg employment length (Years): 5.99\", \"NJ<br>Total loan amount ($ USD): 514184225<br>Avg loan amount ($ USD): 15523<br>Avg employment length (Years): 5.83\", \"NM<br>Total loan amount ($ USD): 73521375<br>Avg loan amount ($ USD): 14931<br>Avg employment length (Years): 5.76\", \"NV<br>Total loan amount ($ USD): 172241400<br>Avg loan amount ($ USD): 13874<br>Avg employment length (Years): 5.54\", \"NY<br>Total loan amount ($ USD): 1074616675<br>Avg loan amount ($ USD): 14553<br>Avg employment length (Years): 5.75\", \"OH<br>Total loan amount ($ USD): 421811325<br>Avg loan amount ($ USD): 14285<br>Avg employment length (Years): 6.03\", \"OK<br>Total loan amount ($ USD): 119851900<br>Avg loan amount ($ USD): 14855<br>Avg employment length (Years): 5.74\", \"OR<br>Total loan amount ($ USD): 149249600<br>Avg loan amount ($ USD): 13722<br>Avg employment length (Years): 5.52\", \"PA<br>Total loan amount ($ USD): 454476525<br>Avg loan amount ($ USD): 14538<br>Avg employment length (Years): 5.87\", \"RI<br>Total loan amount ($ USD): 54978575<br>Avg loan amount ($ USD): 14155<br>Avg employment length (Years): 6.18\", \"SC<br>Total loan amount ($ USD): 157538075<br>Avg loan amount ($ USD): 14831<br>Avg employment length (Years): 5.74\", \"SD<br>Total loan amount ($ USD): 24873700<br>Avg loan amount ($ USD): 13727<br>Avg employment length (Years): 5.84\", \"TN<br>Total loan amount ($ USD): 191890875<br>Avg loan amount ($ USD): 14907<br>Avg employment length (Years): 5.9\", \"TX<br>Total loan amount ($ USD): 1107437600<br>Avg loan amount ($ USD): 15607<br>Avg employment length (Years): 5.62\", \"UT<br>Total loan amount ($ USD): 91691450<br>Avg loan amount ($ USD): 14682<br>Avg employment length (Years): 5.78\", \"VA<br>Total loan amount ($ USD): 410411175<br>Avg loan amount ($ USD): 15678<br>Avg employment length (Years): 5.8\", \"VT<br>Total loan amount ($ USD): 25163250<br>Avg loan amount ($ USD): 14026<br>Avg employment length (Years): 6.15\", \"WA<br>Total loan amount ($ USD): 288840000<br>Avg loan amount ($ USD): 14897<br>Avg employment length (Years): 5.69\", \"WI<br>Total loan amount ($ USD): 164869150<br>Avg loan amount ($ USD): 14314<br>Avg employment length (Years): 6.09\", \"WV<br>Total loan amount ($ USD): 64193875<br>Avg loan amount ($ USD): 14669<br>Avg employment length (Years): 5.93\", \"WY<br>Total loan amount ($ USD): 31023025<br>Avg loan amount ($ USD): 15327<br>Avg employment length (Years): 5.95\"], \"marker\": {\"line\": {\"color\": \"rgb(255,255,255)\", \"width\": 2}}, \"colorbar\": {\"title\": \"$s USD\"}}], {\"title\": \"Lending Club Loan<br> Total Loan By State\", \"geo\": {\"scope\": \"usa\", \"projection\": {\"type\": \"albers usa\"}, \"showlakes\": true, \"lakecolor\": \"rgb(255, 255, 255)\"}}, {\"showLink\": true, \"linkText\": \"Export to plot.ly\"})});</script>"
      ]
     },
     "metadata": {},
     "output_type": "display_data"
    }
   ],
   "source": [
    "data = [ dict(\n",
    "        type='choropleth',\n",
    "        colorscale = scl,\n",
    "        autocolorscale = False,\n",
    "        locations = df_region['addr_state'],\n",
    "        z = df_region['loan_amnt'], \n",
    "        locationmode = 'USA-states',\n",
    "        text = df_region['text'],\n",
    "        marker = dict(\n",
    "            line = dict (\n",
    "                color = 'rgb(255,255,255)',\n",
    "                width = 2\n",
    "            ) ),\n",
    "        colorbar = dict(\n",
    "            title = \"$s USD\")\n",
    "        ) ]\n",
    "\n",
    "layout = dict(\n",
    "        title = 'Lending Club Loan<br> Total Loan By State',\n",
    "        geo = dict(\n",
    "            scope='usa',\n",
    "            projection=dict( type='albers usa' ),\n",
    "            showlakes = True,\n",
    "            lakecolor = 'rgb(255, 255, 255)'),\n",
    "             )\n",
    "    \n",
    "fig = dict( data=data, layout=layout )\n",
    "iplot( fig, filename='d3-cloropleth-map' )"
   ]
  },
  {
   "cell_type": "markdown",
   "metadata": {},
   "source": [
    "# Machine Learning\n",
    "TODO Explain that we want predictions"
   ]
  },
  {
   "cell_type": "code",
   "execution_count": 21,
   "metadata": {
    "collapsed": true
   },
   "outputs": [],
   "source": [
    "from sklearn import metrics, svm\n",
    "from sklearn.model_selection import train_test_split\n",
    "from sklearn.ensemble import RandomForestClassifier\n",
    "from sklearn.tree import DecisionTreeClassifier"
   ]
  },
  {
   "cell_type": "code",
   "execution_count": 22,
   "metadata": {
    "collapsed": true
   },
   "outputs": [],
   "source": [
    "# Data set up\n",
    "# TODO Make clean and normalize data\n",
    "# TODO balance data\n",
    "df_ml = pd.DataFrame()\n",
    "df_ml['annual_inc'] = df['annual_inc']\n",
    "df_ml['delinq_2yrs'] = df['delinq_2yrs']\n",
    "df_ml['dti'] = df['dti']\n",
    "df_ml['emp_length'] = categorize(df['emp_length'])\n",
    "#df_ml['fico_range_high'] = df['fico_range_high']\n",
    "#df_ml['fico_range_low'] = df['fico_range_low']\n",
    "df_ml['grade'] = categorize(df['grade'])\n",
    "df_ml['home_ownership'] = categorize(df['home_ownership'])\n",
    "df_ml['installment'] = df['installment']\n",
    "df_ml['int_rate'] = df['int_rate']\n",
    "df_ml['loan_amnt'] = df['loan_amnt']\n",
    "df_ml['loan_status'] = categorize(df['loan_status'])\n",
    "#df_ml['mnths_since_last_delinq'] = df['mnths_since_last_delinq']\n",
    "#df_ml['mnths_since_last_major_derog'] = df['mnths_since_last_major_derog']\n",
    "df_ml['purpose'] = categorize(df['purpose'])\n",
    "df_ml['sub_grade'] = categorize(df['sub_grade'])\n",
    "df_ml['term'] = categorize(df['term'])\n",
    "#df_ml['all_util'] = df['all_util']\n",
    "df_ml['acc_now_delinq'] = df['acc_now_delinq']\n",
    "#df_ml['tot_cur_bal'] = df['tot_cur_bal']\n"
   ]
  },
  {
   "cell_type": "code",
   "execution_count": 23,
   "metadata": {},
   "outputs": [
    {
     "name": "stdout",
     "output_type": "stream",
     "text": [
      "<class 'pandas.core.frame.DataFrame'>\n",
      "Int64Index: 884630 entries, 0 to 887378\n",
      "Data columns (total 14 columns):\n",
      "annual_inc        884630 non-null float64\n",
      "delinq_2yrs       884630 non-null float64\n",
      "dti               884630 non-null float64\n",
      "emp_length        884630 non-null int64\n",
      "grade             884630 non-null int64\n",
      "home_ownership    884630 non-null int64\n",
      "installment       884630 non-null float64\n",
      "int_rate          884630 non-null float64\n",
      "loan_amnt         884630 non-null float64\n",
      "loan_status       884630 non-null int64\n",
      "purpose           884630 non-null int64\n",
      "sub_grade         884630 non-null int64\n",
      "term              884630 non-null int64\n",
      "acc_now_delinq    884630 non-null float64\n",
      "dtypes: float64(7), int64(7)\n",
      "memory usage: 101.2 MB\n"
     ]
    }
   ],
   "source": [
    "df_ml.info()"
   ]
  },
  {
   "cell_type": "code",
   "execution_count": 24,
   "metadata": {},
   "outputs": [
    {
     "data": {
      "text/plain": [
       "annual_inc        False\n",
       "delinq_2yrs       False\n",
       "dti               False\n",
       "emp_length        False\n",
       "grade             False\n",
       "home_ownership    False\n",
       "installment       False\n",
       "int_rate          False\n",
       "loan_amnt         False\n",
       "loan_status       False\n",
       "purpose           False\n",
       "sub_grade         False\n",
       "term              False\n",
       "acc_now_delinq    False\n",
       "dtype: bool"
      ]
     },
     "execution_count": 24,
     "metadata": {},
     "output_type": "execute_result"
    }
   ],
   "source": [
    "df_ml.isnull().any()"
   ]
  },
  {
   "cell_type": "code",
   "execution_count": 25,
   "metadata": {},
   "outputs": [
    {
     "name": "stdout",
     "output_type": "stream",
     "text": [
      "0.644092257026\n",
      "[[  1921   5791     40   5483    123     17     43    259]\n",
      " [  6459 139026    307  27785   1656   1548    671   2897]\n",
      " [    28    247      1     80      4      2      2     14]\n",
      " [  6051  25927     88  28802    429    112    175    836]\n",
      " [   122   1266      6    333     25     12      7     31]\n",
      " [    12   1317      0    139     13   1055      3     15]\n",
      " [    41    496      0    126      8      5      5     13]\n",
      " [   266   2269     10    795     41     11     23    100]]\n"
     ]
    }
   ],
   "source": [
    "y = df_ml['loan_status']\n",
    "X = df_ml.drop(['loan_status'], axis=1)\n",
    "\n",
    "X_train, X_test, y_train, y_test = train_test_split(X, y, test_size=0.3, random_state=42)\n",
    "\n",
    "dt = DecisionTreeClassifier()\n",
    "dt.fit(X_train, y_train)\n",
    "\n",
    "print(metrics.accuracy_score(y_test, dt.predict(X_test)))\n",
    "print(metrics.confusion_matrix(y_test, dt.predict(X_test)))"
   ]
  },
  {
   "cell_type": "code",
   "execution_count": 26,
   "metadata": {},
   "outputs": [
    {
     "name": "stdout",
     "output_type": "stream",
     "text": [
      "0.681399756584\n",
      "[[     0  13398      0    279      0      0      0      0]\n",
      " [     0 179975      0    374      0      0      0      0]\n",
      " [     0    378      0      0      0      0      0      0]\n",
      " [     0  61559      0    861      0      0      0      0]\n",
      " [     0   1800      0      2      0      0      0      0]\n",
      " [     0   2554      0      0      0      0      0      0]\n",
      " [     0    694      0      0      0      0      0      0]\n",
      " [     0   3507      0      8      0      0      0      0]]\n"
     ]
    }
   ],
   "source": [
    "dt = DecisionTreeClassifier(max_depth=3, max_features=3)\n",
    "dt.fit(X_train, y_train)\n",
    "\n",
    "print(metrics.accuracy_score(y_test, dt.predict(X_test)))\n",
    "print(metrics.confusion_matrix(y_test, dt.predict(X_test)))"
   ]
  },
  {
   "cell_type": "code",
   "execution_count": 27,
   "metadata": {},
   "outputs": [
    {
     "name": "stdout",
     "output_type": "stream",
     "text": [
      "Random Forest\n",
      "0.72267124862\n",
      "[[   810   7924      2   4921      4      0      1     15]\n",
      " [  1720 164418     11  14009     24     77     12     78]\n",
      " [    10    326      0     42      0      0      0      0]\n",
      " [  1916  34091      3  26341     15     12      6     36]\n",
      " [    45   1543      0    213      1      0      0      0]\n",
      " [    11   2254      0     74      1    214      0      0]\n",
      " [    15    604      0     75      0      0      0      0]\n",
      " [    83   3005      0    421      1      0      0      5]]\n"
     ]
    }
   ],
   "source": [
    "clf = RandomForestClassifier()\n",
    "clf.fit(X_train, y_train)\n",
    "\n",
    "print(\"Random Forest\")\n",
    "print(metrics.accuracy_score(y_test, clf.predict(X_test)))\n",
    "print(metrics.confusion_matrix(y_test, clf.predict(X_test)))\n",
    "\n",
    "#print(\"\\n\\n\")\n",
    "#clf = svm.SVC()\n",
    "#clf.fit(X_train, y_train)\n",
    "\n",
    "#print(\"SVC\")\n",
    "#print(metrics.accuracy_score(y_test, clf.predict(X_test)))\n",
    "#print(metrics.confusion_matrix(y_test, clf.predict(X_test)))\n"
   ]
  },
  {
   "cell_type": "code",
   "execution_count": null,
   "metadata": {
    "collapsed": true
   },
   "outputs": [],
   "source": []
  }
 ],
 "metadata": {
  "kernelspec": {
   "display_name": "Python 3",
   "language": "python",
   "name": "python3"
  },
  "language_info": {
   "codemirror_mode": {
    "name": "ipython",
    "version": 3
   },
   "file_extension": ".py",
   "mimetype": "text/x-python",
   "name": "python",
   "nbconvert_exporter": "python",
   "pygments_lexer": "ipython3",
   "version": "3.6.1"
  }
 },
 "nbformat": 4,
 "nbformat_minor": 2
}
