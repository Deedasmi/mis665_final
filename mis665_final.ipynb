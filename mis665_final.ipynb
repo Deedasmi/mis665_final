{
 "cells": [
  {
   "cell_type": "markdown",
   "metadata": {},
   "source": [
    "# Who is paying and NOT paying the loan?\n",
    "    - by Jay Ko and Richard Petrie"
   ]
  },
  {
   "cell_type": "markdown",
   "metadata": {},
   "source": [
    "\"On my honor, as a student, I have neither given nor received unauthorized aid on this academic work.\""
   ]
  },
  {
   "cell_type": "markdown",
   "metadata": {},
   "source": [
    "## About dataset\n",
    "<br/>\n",
    "<div style=\"text-align:justify\">: This dataset is directly from the website [Lending-Club-Loan-Data](https://www.kaggle.com/wendykan/lending-club-loan-data). According to its description, <u>this dataset contains completed load data for all all loans issued through the 2007-2015, including the current loan status and latest payment information. This data set is a matrix of about 890,000 observations and 75 columns</u><sup>[1]</sup>\n",
    "[1]:https://www.kaggle.com/wendykan/lending-club-loan-data</div>"
   ]
  },
  {
   "cell_type": "markdown",
   "metadata": {},
   "source": [
    "![](images/cash.jpg)"
   ]
  },
  {
   "cell_type": "markdown",
   "metadata": {},
   "source": [
    "## Understanding data\n",
    "<div style=\"text-align:justify\">\n",
    "<br/>\n",
    "Not only to the merchandiser, but also to the loaner, getting money back is the most important part for their business. This data set observed almost 900,000 observation with variety factors such as `loan amount`, `funded amount`, `interest rate`, and `total payment` and etc. With this dataset, **we are trying to analysis who is most likely to pay back the loan and who is not**.</div>"
   ]
  },
  {
   "cell_type": "markdown",
   "metadata": {},
   "source": [
    "## Data processing"
   ]
  },
  {
   "cell_type": "code",
   "execution_count": 1,
   "metadata": {
    "collapsed": true
   },
   "outputs": [],
   "source": [
    "# Import basic data science packages\n",
    "import pandas as pd\n",
    "import seaborn as sns\n",
    "import numpy as np\n",
    "import matplotlib.pyplot as plt\n",
    "import matplotlib\n",
    "%matplotlib inline\n",
    "\n",
    "# A helper function that converts \n",
    "# [\"a\", \"b\", \"a\", \"c\"] into\n",
    "# [1, 2, 1, 3]\n",
    "def categorize(l):\n",
    "    uniques = sorted(list(set(l)))\n",
    "    return [uniques.index(x) + 1 for x in l]"
   ]
  },
  {
   "cell_type": "code",
   "execution_count": 2,
   "metadata": {},
   "outputs": [
    {
     "name": "stderr",
     "output_type": "stream",
     "text": [
      "C:\\Users\\deedasmi\\AppData\\Local\\Continuum\\anaconda3\\lib\\site-packages\\IPython\\core\\interactiveshell.py:2698: DtypeWarning: Columns (19,55) have mixed types. Specify dtype option on import or set low_memory=False.\n",
      "  interactivity=interactivity, compiler=compiler, result=result)\n"
     ]
    },
    {
     "data": {
      "text/html": [
       "<div>\n",
       "<style>\n",
       "    .dataframe thead tr:only-child th {\n",
       "        text-align: right;\n",
       "    }\n",
       "\n",
       "    .dataframe thead th {\n",
       "        text-align: left;\n",
       "    }\n",
       "\n",
       "    .dataframe tbody tr th {\n",
       "        vertical-align: top;\n",
       "    }\n",
       "</style>\n",
       "<table border=\"1\" class=\"dataframe\">\n",
       "  <thead>\n",
       "    <tr style=\"text-align: right;\">\n",
       "      <th></th>\n",
       "      <th>id</th>\n",
       "      <th>member_id</th>\n",
       "      <th>loan_amnt</th>\n",
       "      <th>funded_amnt</th>\n",
       "      <th>funded_amnt_inv</th>\n",
       "      <th>term</th>\n",
       "      <th>int_rate</th>\n",
       "      <th>installment</th>\n",
       "      <th>grade</th>\n",
       "      <th>sub_grade</th>\n",
       "      <th>...</th>\n",
       "      <th>total_bal_il</th>\n",
       "      <th>il_util</th>\n",
       "      <th>open_rv_12m</th>\n",
       "      <th>open_rv_24m</th>\n",
       "      <th>max_bal_bc</th>\n",
       "      <th>all_util</th>\n",
       "      <th>total_rev_hi_lim</th>\n",
       "      <th>inq_fi</th>\n",
       "      <th>total_cu_tl</th>\n",
       "      <th>inq_last_12m</th>\n",
       "    </tr>\n",
       "  </thead>\n",
       "  <tbody>\n",
       "    <tr>\n",
       "      <th>0</th>\n",
       "      <td>1077501</td>\n",
       "      <td>1296599</td>\n",
       "      <td>5000.0</td>\n",
       "      <td>5000.0</td>\n",
       "      <td>4975.0</td>\n",
       "      <td>36 months</td>\n",
       "      <td>10.65</td>\n",
       "      <td>162.87</td>\n",
       "      <td>B</td>\n",
       "      <td>B2</td>\n",
       "      <td>...</td>\n",
       "      <td>NaN</td>\n",
       "      <td>NaN</td>\n",
       "      <td>NaN</td>\n",
       "      <td>NaN</td>\n",
       "      <td>NaN</td>\n",
       "      <td>NaN</td>\n",
       "      <td>NaN</td>\n",
       "      <td>NaN</td>\n",
       "      <td>NaN</td>\n",
       "      <td>NaN</td>\n",
       "    </tr>\n",
       "    <tr>\n",
       "      <th>1</th>\n",
       "      <td>1077430</td>\n",
       "      <td>1314167</td>\n",
       "      <td>2500.0</td>\n",
       "      <td>2500.0</td>\n",
       "      <td>2500.0</td>\n",
       "      <td>60 months</td>\n",
       "      <td>15.27</td>\n",
       "      <td>59.83</td>\n",
       "      <td>C</td>\n",
       "      <td>C4</td>\n",
       "      <td>...</td>\n",
       "      <td>NaN</td>\n",
       "      <td>NaN</td>\n",
       "      <td>NaN</td>\n",
       "      <td>NaN</td>\n",
       "      <td>NaN</td>\n",
       "      <td>NaN</td>\n",
       "      <td>NaN</td>\n",
       "      <td>NaN</td>\n",
       "      <td>NaN</td>\n",
       "      <td>NaN</td>\n",
       "    </tr>\n",
       "    <tr>\n",
       "      <th>2</th>\n",
       "      <td>1077175</td>\n",
       "      <td>1313524</td>\n",
       "      <td>2400.0</td>\n",
       "      <td>2400.0</td>\n",
       "      <td>2400.0</td>\n",
       "      <td>36 months</td>\n",
       "      <td>15.96</td>\n",
       "      <td>84.33</td>\n",
       "      <td>C</td>\n",
       "      <td>C5</td>\n",
       "      <td>...</td>\n",
       "      <td>NaN</td>\n",
       "      <td>NaN</td>\n",
       "      <td>NaN</td>\n",
       "      <td>NaN</td>\n",
       "      <td>NaN</td>\n",
       "      <td>NaN</td>\n",
       "      <td>NaN</td>\n",
       "      <td>NaN</td>\n",
       "      <td>NaN</td>\n",
       "      <td>NaN</td>\n",
       "    </tr>\n",
       "  </tbody>\n",
       "</table>\n",
       "<p>3 rows × 74 columns</p>\n",
       "</div>"
      ],
      "text/plain": [
       "        id  member_id  loan_amnt  funded_amnt  funded_amnt_inv        term  \\\n",
       "0  1077501    1296599     5000.0       5000.0           4975.0   36 months   \n",
       "1  1077430    1314167     2500.0       2500.0           2500.0   60 months   \n",
       "2  1077175    1313524     2400.0       2400.0           2400.0   36 months   \n",
       "\n",
       "   int_rate  installment grade sub_grade     ...      total_bal_il il_util  \\\n",
       "0     10.65       162.87     B        B2     ...               NaN     NaN   \n",
       "1     15.27        59.83     C        C4     ...               NaN     NaN   \n",
       "2     15.96        84.33     C        C5     ...               NaN     NaN   \n",
       "\n",
       "  open_rv_12m  open_rv_24m max_bal_bc all_util total_rev_hi_lim inq_fi  \\\n",
       "0         NaN          NaN        NaN      NaN              NaN    NaN   \n",
       "1         NaN          NaN        NaN      NaN              NaN    NaN   \n",
       "2         NaN          NaN        NaN      NaN              NaN    NaN   \n",
       "\n",
       "  total_cu_tl inq_last_12m  \n",
       "0         NaN          NaN  \n",
       "1         NaN          NaN  \n",
       "2         NaN          NaN  \n",
       "\n",
       "[3 rows x 74 columns]"
      ]
     },
     "execution_count": 2,
     "metadata": {},
     "output_type": "execute_result"
    }
   ],
   "source": [
    "df = pd.read_csv(\"data/loan.csv\")\n",
    "df.head(3)"
   ]
  },
  {
   "cell_type": "code",
   "execution_count": 3,
   "metadata": {
    "collapsed": true
   },
   "outputs": [],
   "source": [
    "# Initial drops. I'm fairly confident in not needing these.\n",
    "df = df.drop(['url', 'desc', 'policy_code', 'last_pymnt_d', 'next_pymnt_d', 'earliest_cr_line', 'emp_title'], axis=1)\n",
    "df = df.drop(['id', 'title', 'total_rec_int', 'total_rec_late_fee', 'total_rec_prncp', 'zip_code'], axis=1)"
   ]
  },
  {
   "cell_type": "code",
   "execution_count": 4,
   "metadata": {
    "collapsed": true
   },
   "outputs": [],
   "source": [
    "# Booleanize\n",
    "df['joint_application'] = [0 if x == \"INDIVIDUAL\" else 1 for x in df['application_type']]\n",
    "df = df.drop(['application_type'], axis=1)"
   ]
  },
  {
   "cell_type": "code",
   "execution_count": 5,
   "metadata": {},
   "outputs": [
    {
     "data": {
      "text/plain": [
       "array(['Fully Paid', 'Charged Off', 'Current', 'Default',\n",
       "       'Late (31-120 days)', 'In Grace Period', 'Late (16-30 days)'], dtype=object)"
      ]
     },
     "execution_count": 5,
     "metadata": {},
     "output_type": "execute_result"
    }
   ],
   "source": [
    "# Filters out \"Does not meet credit policy\" loan statuses\n",
    "# Removes 2,749 records\n",
    "df.groupby(['loan_status']).size()\n",
    "df['loan_status_int'] = categorize(df['loan_status'])\n",
    "df = pd.DataFrame(df[df['loan_status_int'] != 4])\n",
    "df = pd.DataFrame(df[df['loan_status_int'] != 5])\n",
    "df = pd.DataFrame(df[df['loan_status_int'] != 8])\n",
    "df = df.drop(['loan_status_int'], axis=1)\n",
    "\n",
    "df['loan_status'].unique()"
   ]
  },
  {
   "cell_type": "code",
   "execution_count": 6,
   "metadata": {},
   "outputs": [
    {
     "name": "stdout",
     "output_type": "stream",
     "text": [
      "<class 'pandas.core.frame.DataFrame'>\n",
      "Int64Index: 876170 entries, 0 to 887378\n",
      "Data columns (total 61 columns):\n",
      "member_id                      876170 non-null int64\n",
      "loan_amnt                      876170 non-null float64\n",
      "funded_amnt                    876170 non-null float64\n",
      "funded_amnt_inv                876170 non-null float64\n",
      "term                           876170 non-null object\n",
      "int_rate                       876170 non-null float64\n",
      "installment                    876170 non-null float64\n",
      "grade                          876170 non-null object\n",
      "sub_grade                      876170 non-null object\n",
      "emp_length                     876170 non-null object\n",
      "home_ownership                 876170 non-null object\n",
      "annual_inc                     876170 non-null float64\n",
      "verification_status            876170 non-null object\n",
      "issue_d                        876170 non-null object\n",
      "loan_status                    876170 non-null object\n",
      "pymnt_plan                     876170 non-null object\n",
      "purpose                        876170 non-null object\n",
      "addr_state                     876170 non-null object\n",
      "dti                            876170 non-null float64\n",
      "delinq_2yrs                    876170 non-null float64\n",
      "inq_last_6mths                 876170 non-null float64\n",
      "mths_since_last_delinq         427073 non-null float64\n",
      "mths_since_last_record         134597 non-null float64\n",
      "open_acc                       876170 non-null float64\n",
      "pub_rec                        876170 non-null float64\n",
      "revol_bal                      876170 non-null float64\n",
      "revol_util                     875711 non-null float64\n",
      "total_acc                      876170 non-null float64\n",
      "initial_list_status            876170 non-null object\n",
      "out_prncp                      876170 non-null float64\n",
      "out_prncp_inv                  876170 non-null float64\n",
      "total_pymnt                    876170 non-null float64\n",
      "total_pymnt_inv                876170 non-null float64\n",
      "recoveries                     876170 non-null float64\n",
      "collection_recovery_fee        876170 non-null float64\n",
      "last_pymnt_amnt                876170 non-null float64\n",
      "last_credit_pull_d             876119 non-null object\n",
      "collections_12_mths_ex_med     876114 non-null float64\n",
      "mths_since_last_major_derog    219178 non-null float64\n",
      "annual_inc_joint               447 non-null float64\n",
      "dti_joint                      445 non-null float64\n",
      "verification_status_joint      447 non-null object\n",
      "acc_now_delinq                 876170 non-null float64\n",
      "tot_coll_amt                   808643 non-null float64\n",
      "tot_cur_bal                    808643 non-null float64\n",
      "open_acc_6m                    13370 non-null float64\n",
      "open_il_6m                     13370 non-null float64\n",
      "open_il_12m                    13370 non-null float64\n",
      "open_il_24m                    13370 non-null float64\n",
      "mths_since_rcnt_il             13016 non-null float64\n",
      "total_bal_il                   13370 non-null float64\n",
      "il_util                        11684 non-null float64\n",
      "open_rv_12m                    13370 non-null float64\n",
      "open_rv_24m                    13370 non-null float64\n",
      "max_bal_bc                     13370 non-null float64\n",
      "all_util                       13370 non-null float64\n",
      "total_rev_hi_lim               808643 non-null float64\n",
      "inq_fi                         13370 non-null float64\n",
      "total_cu_tl                    13370 non-null float64\n",
      "inq_last_12m                   13370 non-null float64\n",
      "joint_application              876170 non-null int64\n",
      "dtypes: float64(45), int64(2), object(14)\n",
      "memory usage: 414.4+ MB\n"
     ]
    }
   ],
   "source": [
    "# Need to drop or categorize object types\n",
    "df.info()"
   ]
  },
  {
   "cell_type": "code",
   "execution_count": 7,
   "metadata": {
    "scrolled": true
   },
   "outputs": [
    {
     "data": {
      "text/plain": [
       "member_id                      False\n",
       "loan_amnt                      False\n",
       "funded_amnt                    False\n",
       "funded_amnt_inv                False\n",
       "term                           False\n",
       "int_rate                       False\n",
       "installment                    False\n",
       "grade                          False\n",
       "sub_grade                      False\n",
       "emp_length                     False\n",
       "home_ownership                 False\n",
       "annual_inc                     False\n",
       "verification_status            False\n",
       "issue_d                        False\n",
       "loan_status                    False\n",
       "pymnt_plan                     False\n",
       "purpose                        False\n",
       "addr_state                     False\n",
       "dti                            False\n",
       "delinq_2yrs                    False\n",
       "inq_last_6mths                 False\n",
       "mths_since_last_delinq          True\n",
       "mths_since_last_record          True\n",
       "open_acc                       False\n",
       "pub_rec                        False\n",
       "revol_bal                      False\n",
       "revol_util                      True\n",
       "total_acc                      False\n",
       "initial_list_status            False\n",
       "out_prncp                      False\n",
       "                               ...  \n",
       "total_pymnt                    False\n",
       "total_pymnt_inv                False\n",
       "recoveries                     False\n",
       "collection_recovery_fee        False\n",
       "last_pymnt_amnt                False\n",
       "last_credit_pull_d              True\n",
       "collections_12_mths_ex_med      True\n",
       "mths_since_last_major_derog     True\n",
       "annual_inc_joint                True\n",
       "dti_joint                       True\n",
       "verification_status_joint       True\n",
       "acc_now_delinq                 False\n",
       "tot_coll_amt                    True\n",
       "tot_cur_bal                     True\n",
       "open_acc_6m                     True\n",
       "open_il_6m                      True\n",
       "open_il_12m                     True\n",
       "open_il_24m                     True\n",
       "mths_since_rcnt_il              True\n",
       "total_bal_il                    True\n",
       "il_util                         True\n",
       "open_rv_12m                     True\n",
       "open_rv_24m                     True\n",
       "max_bal_bc                      True\n",
       "all_util                        True\n",
       "total_rev_hi_lim                True\n",
       "inq_fi                          True\n",
       "total_cu_tl                     True\n",
       "inq_last_12m                    True\n",
       "joint_application              False\n",
       "Length: 61, dtype: bool"
      ]
     },
     "execution_count": 7,
     "metadata": {},
     "output_type": "execute_result"
    }
   ],
   "source": [
    "# We may have to drop columns with nulls\n",
    "df.isnull().any()"
   ]
  },
  {
   "cell_type": "markdown",
   "metadata": {
    "collapsed": true
   },
   "source": [
    "## Analysis"
   ]
  },
  {
   "cell_type": "markdown",
   "metadata": {},
   "source": [
    "### A. Employement Length For Issued Loans"
   ]
  },
  {
   "cell_type": "code",
   "execution_count": 8,
   "metadata": {},
   "outputs": [
    {
     "data": {
      "text/plain": [
       "array(['10+ years', '0.5', '1 year', '3 years', '8 years', '9 years',\n",
       "       '4 years', '5 years', '6 years', '2 years', '7 years', 'n/a'], dtype=object)"
      ]
     },
     "execution_count": 8,
     "metadata": {},
     "output_type": "execute_result"
    }
   ],
   "source": [
    "# make temporary dataframe in order to keep original dataframe\n",
    "df_copy = df.copy()\n",
    "df_copy[\"emp_length\"] = [\"0.5\" if x == '< 1 year' else x for x in df_copy[\"emp_length\"]]\n",
    "\n",
    "# check employment length\n",
    "df_copy.emp_length.unique()"
   ]
  },
  {
   "cell_type": "code",
   "execution_count": 9,
   "metadata": {
    "collapsed": true
   },
   "outputs": [],
   "source": [
    "# Using regex to easy convert\n",
    "\n",
    "import re\n",
    "reg = re.compile(r'(\\d+\\.?\\d?)')\n",
    "t = []\n",
    "for emp in df_copy.emp_length:\n",
    "    value = reg.match(emp)\n",
    "    t.append(float(value[0]) if value else 0)\n",
    "df_copy['emp'] = t\n",
    "\n",
    "# < 1 years is denoted by 0.5\n",
    "# n/a is considered 0\n",
    "# 10+ years is denoted 10 years"
   ]
  },
  {
   "cell_type": "code",
   "execution_count": 10,
   "metadata": {
    "collapsed": true
   },
   "outputs": [],
   "source": [
    "f = pd.value_counts(df_copy['emp']).to_frame().reset_index()\n",
    "f.columns = ['type','count']"
   ]
  },
  {
   "cell_type": "code",
   "execution_count": 11,
   "metadata": {
    "scrolled": false
   },
   "outputs": [
    {
     "data": {
      "image/png": "[encoded data removed]",
      "text/plain": [
       "<matplotlib.figure.Figure at 0x1e70b3f92b0>"
      ]
     },
     "metadata": {},
     "output_type": "display_data"
    }
   ],
   "source": [
    "plt.subplots(figsize=(15,6))\n",
    "sns.barplot(y='count', x='type', data=f)\n",
    "plt.xlabel(\"Length\")\n",
    "plt.ylabel(\"Count\")\n",
    "plt.title(\"Distribution of Employement Length For Issued Loans\")\n",
    "plt.show()"
   ]
  },
  {
   "cell_type": "markdown",
   "metadata": {},
   "source": [
    "### Summary\n",
    "- People work for **10+ years** have the highest loan issue number(291,569) which is almost three times higher than second place(**0**, 115,430)"
   ]
  },
  {
   "cell_type": "markdown",
   "metadata": {},
   "source": [
    "### B. Loan Status"
   ]
  },
  {
   "cell_type": "code",
   "execution_count": 12,
   "metadata": {},
   "outputs": [
    {
     "data": {
      "image/png": "[encoded data removed]",
      "text/plain": [
       "<matplotlib.figure.Figure at 0x1e70b5ee5c0>"
      ]
     },
     "metadata": {},
     "output_type": "display_data"
    }
   ],
   "source": [
    "legend = {6:(\"Late (16-30 days)\",'b'),\n",
    "          7:(\"Late (31-120 days)\",'yellow'),\n",
    "          5:(\"In Grace Period\",\"k\"),\n",
    "          3:(\"Default\",'magenta'),\n",
    "          2:(\"Current\", \"orange\"),\n",
    "          1:(\"Charged Off\",\"#512888\"),\n",
    "          4:(\"Fully Paid\",\"#f7cfcf\")}\n",
    "\n",
    "\n",
    "\n",
    "plt.subplots(figsize=(15,6))\n",
    "\n",
    "sns.set_context(\"paper\", font_scale=2)\n",
    "sns.set_style(\"white\")\n",
    "a = sns.distplot(categorize(df_copy[\"loan_status\"]), kde=False)\n",
    "a.set(xlabel=legend)\n",
    "plt.legend()\n",
    "plt.show()"
   ]
  },
  {
   "cell_type": "code",
   "execution_count": 13,
   "metadata": {},
   "outputs": [
    {
     "data": {
      "text/plain": [
       "<matplotlib.axes._subplots.AxesSubplot at 0x1e70b604908>"
      ]
     },
     "execution_count": 13,
     "metadata": {},
     "output_type": "execute_result"
    },
    {
     "data": {
      "image/png": "[encoded data removed]",
      "text/plain": [
       "<matplotlib.figure.Figure at 0x1e7211c0b00>"
      ]
     },
     "metadata": {},
     "output_type": "display_data"
    }
   ],
   "source": [
    "# Loan amount by its status\n",
    "plt.subplots(figsize=(20,10))\n",
    "plt.title(\"The distribution of loan amounts by status\").set_size(40)\n",
    "sns.boxplot(x=\"loan_amnt\", y=\"loan_status\", data=df_copy)"
   ]
  },
  {
   "cell_type": "markdown",
   "metadata": {},
   "source": [
    "### Summary\n",
    "- **Default** has the highest count among other **loan status**.\n",
    "- **In Grace Period** and **Late(16~30 days)** have the highest loan amount and mean."
   ]
  },
  {
   "cell_type": "markdown",
   "metadata": {},
   "source": [
    "### C. Loan Amount Base on Grade"
   ]
  },
  {
   "cell_type": "code",
   "execution_count": 14,
   "metadata": {},
   "outputs": [
    {
     "data": {
      "text/plain": [
       "<matplotlib.axes._subplots.AxesSubplot at 0x1e7085a54a8>"
      ]
     },
     "execution_count": 14,
     "metadata": {},
     "output_type": "execute_result"
    },
    {
     "data": {
      "image/png": "[encoded data removed]",
      "text/plain": [
       "<matplotlib.figure.Figure at 0x1e70b613588>"
      ]
     },
     "metadata": {},
     "output_type": "display_data"
    }
   ],
   "source": [
    "group = df_copy.groupby(\"grade\").mean()\n",
    "avg_loan = group['loan_amnt'].reset_index()\n",
    "plt.subplots(figsize=(15,9))\n",
    "sns.barplot(x='grade', y='loan_amnt', data=avg_loan, palette='Set2')"
   ]
  },
  {
   "cell_type": "markdown",
   "metadata": {},
   "source": [
    "### Summary\n",
    "- The lower grade, the higher loan amount loan issued"
   ]
  },
  {
   "cell_type": "markdown",
   "metadata": {},
   "source": [
    "### D. Region"
   ]
  },
  {
   "cell_type": "code",
   "execution_count": 15,
   "metadata": {},
   "outputs": [
    {
     "data": {
      "text/html": [
       "<script>requirejs.config({paths: { 'plotly': ['https://cdn.plot.ly/plotly-latest.min']},});if(!window.Plotly) {{require(['plotly'],function(plotly) {window.Plotly=plotly;});}}</script>"
      ],
      "text/vnd.plotly.v1+html": [
       "<script>requirejs.config({paths: { 'plotly': ['https://cdn.plot.ly/plotly-latest.min']},});if(!window.Plotly) {{require(['plotly'],function(plotly) {window.Plotly=plotly;});}}</script>"
      ]
     },
     "metadata": {},
     "output_type": "display_data"
    }
   ],
   "source": [
    "# Import map visulization libraries\n",
    "import plotly.plotly as py\n",
    "import plotly.graph_objs as go\n",
    "from plotly import tools\n",
    "from plotly.offline import download_plotlyjs, init_notebook_mode, plot, iplot\n",
    "init_notebook_mode(connected=True)"
   ]
  },
  {
   "cell_type": "code",
   "execution_count": 16,
   "metadata": {
    "collapsed": true
   },
   "outputs": [],
   "source": [
    "# create dataframe that holds values by state.\n",
    "loan_amnt_by_state = df_copy.groupby([\"addr_state\"]).sum()[\"loan_amnt\"]\n",
    "df_region = loan_amnt_by_state.to_frame()\n",
    "df_region[\"loan_amnt\"] = df_region[\"loan_amnt\"].map(\"{:,.0f}\".format)\n",
    "temp = []\n",
    "for x in df_region[\"loan_amnt\"]:\n",
    "    a = int(x.replace(',', ''))\n",
    "    temp.append(a)\n",
    "df_region[\"loan_amnt\"] = temp\n",
    "\n",
    "# count number of loan issued\n",
    "num_issued_loan = df_copy.groupby([\"addr_state\"]).count()[\"member_id\"]\n",
    "df_region[\"num_issued\"] = num_issued_loan\n",
    "\n",
    "# Average loan amount\n",
    "avg_loan_amnt_by_state = []\n",
    "for a,b in zip(df_region[\"loan_amnt\"], df_region[\"num_issued\"]):\n",
    "    temp = int(a/b)\n",
    "    avg_loan_amnt_by_state.append(temp)\n",
    "df_region[\"avg_loan_amnt_by_state\"] = avg_loan_amnt_by_state\n",
    "\n",
    "# Average employment length\n",
    "total_year = df_copy.groupby([\"addr_state\"]).sum()[\"emp\"]\n",
    "temp = []\n",
    "for a, b in zip(total_year, df_region.num_issued):\n",
    "    value = (a/b)\n",
    "    value = \"{0:.2f}\".format(value)\n",
    "    value = float(value)\n",
    "    temp.append(value)\n",
    "df_region[\"avg_emp_length_by_state\"] = temp"
   ]
  },
  {
   "cell_type": "code",
   "execution_count": 17,
   "metadata": {},
   "outputs": [
    {
     "data": {
      "text/plain": [
       "Index(['AK', 'AL', 'AR', 'AZ', 'CA', 'CO', 'CT', 'DC', 'DE', 'FL', 'GA', 'HI',\n",
       "       'IA', 'ID', 'IL', 'IN', 'KS', 'KY', 'LA', 'MA', 'MD', 'ME', 'MI', 'MN',\n",
       "       'MO', 'MS', 'MT', 'NC', 'ND', 'NE', 'NH', 'NJ', 'NM', 'NV', 'NY', 'OH',\n",
       "       'OK', 'OR', 'PA', 'RI', 'SC', 'SD', 'TN', 'TX', 'UT', 'VA', 'VT', 'WA',\n",
       "       'WI', 'WV', 'WY'],\n",
       "      dtype='object', name='addr_state')"
      ]
     },
     "execution_count": 17,
     "metadata": {},
     "output_type": "execute_result"
    }
   ],
   "source": [
    "# change index \n",
    "df_region_copy = df_region.copy()\n",
    "addr_state = df_region_copy.index\n",
    "addr_state.astype(str)"
   ]
  },
  {
   "cell_type": "code",
   "execution_count": 18,
   "metadata": {},
   "outputs": [
    {
     "name": "stdout",
     "output_type": "stream",
     "text": [
      "<class 'pandas.core.frame.DataFrame'>\n",
      "Int64Index: 51 entries, 1 to 51\n",
      "Data columns (total 5 columns):\n",
      "loan_amnt                  51 non-null int64\n",
      "num_issued                 51 non-null int64\n",
      "avg_loan_amnt_by_state     51 non-null int64\n",
      "avg_emp_length_by_state    51 non-null float64\n",
      "addr_state                 51 non-null object\n",
      "dtypes: float64(1), int64(3), object(1)\n",
      "memory usage: 2.4+ KB\n"
     ]
    }
   ],
   "source": [
    "df_region.index = list(range(1,52))\n",
    "df_region[\"addr_state\"] = addr_state\n",
    "df_region.info()"
   ]
  },
  {
   "cell_type": "code",
   "execution_count": 19,
   "metadata": {},
   "outputs": [],
   "source": [
    "# population by states from http://worldpopulationreview.com/states/\n",
    "\n",
    "population = pd.read_csv(\"data/population.csv\")\n",
    "population.index = list(range(1,52))\n",
    "#population.info()\n",
    "df_region[\"population\"] = population['2017 Population']\n",
    "\n"
   ]
  },
  {
   "cell_type": "code",
   "execution_count": 20,
   "metadata": {
    "collapsed": true
   },
   "outputs": [],
   "source": [
    "# Clean the df_region_copy memory \n",
    "del df_region_copy\n",
    "df_region_copy = df_region.copy()"
   ]
  },
  {
   "cell_type": "code",
   "execution_count": 21,
   "metadata": {},
   "outputs": [],
   "source": [
    "# plotly color setting\n",
    "for col in df_region.columns:\n",
    "    df_region[col] = df_region[col].astype(str)\n",
    "    scl = [[0.0, 'rgb(242,240,247)'],[0.2, 'rgb(218,218,235)'],[0.4, 'rgb(188,189,220)'],\\\n",
    "            [0.6, 'rgb(158,154,200)'],[0.8, 'rgb(117,107,177)'],[1.0, 'rgb(84,39,143)']]\n",
    "\n",
    "\n",
    "# create text column\n",
    "df_region[\"text\"] = df_region[\"addr_state\"] + '<br>' + \\\n",
    "\"Population: \" + df_region[\"population\"] + '<br>' + \\\n",
    "\"Total loan amount ($ USD): \" + df_region[\"loan_amnt\"] + \"<br>\" + \\\n",
    "\"Avg loan amount ($ USD): \" + df_region[\"avg_loan_amnt_by_state\"] + '<br>' + \\\n",
    "\"Avg employment length (Years): \" + df_region[\"avg_emp_length_by_state\"]\n"
   ]
  },
  {
   "cell_type": "code",
   "execution_count": 22,
   "metadata": {},
   "outputs": [
    {
     "data": {
      "application/vnd.plotly.v1+json": {
       "data": [
        {
         "autocolorscale": false,
         "colorbar": {
          "title": "$s USD"
         },
         "colorscale": [
          [
           0,
           "rgb(242,240,247)"
          ],
          [
           0.2,
           "rgb(218,218,235)"
          ],
          [
           0.4,
           "rgb(188,189,220)"
          ],
          [
           0.6,
           "rgb(158,154,200)"
          ],
          [
           0.8,
           "rgb(117,107,177)"
          ],
          [
           1,
           "rgb(84,39,143)"
          ]
         ],
         "locationmode": "USA-states",
         "locations": [
          "AK",
          "AL",
          "AR",
          "AZ",
          "CA",
          "CO",
          "CT",
          "DC",
          "DE",
          "FL",
          "GA",
          "HI",
          "IA",
          "ID",
          "IL",
          "IN",
          "KS",
          "KY",
          "LA",
          "MA",
          "MD",
          "ME",
          "MI",
          "MN",
          "MO",
          "MS",
          "MT",
          "NC",
          "ND",
          "NE",
          "NH",
          "NJ",
          "NM",
          "NV",
          "NY",
          "OH",
          "OK",
          "OR",
          "PA",
          "RI",
          "SC",
          "SD",
          "TN",
          "TX",
          "UT",
          "VA",
          "VT",
          "WA",
          "WI",
          "WV",
          "WY"
         ],
         "marker": {
          "line": {
           "color": "rgb(255,255,255)",
           "width": 2
          }
         },
         "text": [
          "AK<br>Population: 39506094<br>Total loan amount ($ USD): 36680875<br>Avg loan amount ($ USD): 16779<br>Avg employment length (Years): 6.04",
          "AL<br>Population: 28295553<br>Total loan amount ($ USD): 162441750<br>Avg loan amount ($ USD): 14705<br>Avg employment length (Years): 6.18",
          "AR<br>Population: 20979964<br>Total loan amount ($ USD): 92160000<br>Avg loan amount ($ USD): 14059<br>Avg employment length (Years): 5.94",
          "AZ<br>Population: 19743395<br>Total loan amount ($ USD): 286915750<br>Avg loan amount ($ USD): 14226<br>Avg employment length (Years): 5.43",
          "CA<br>Population: 12776550<br>Total loan amount ($ USD): 1877192825<br>Avg loan amount ($ USD): 14660<br>Avg employment length (Years): 5.7",
          "CO<br>Population: 12764031<br>Total loan amount ($ USD): 278077675<br>Avg loan amount ($ USD): 14969<br>Avg employment length (Years): 5.32",
          "CT<br>Population: 11623656<br>Total loan amount ($ USD): 200260000<br>Avg loan amount ($ USD): 15023<br>Avg employment length (Years): 5.97",
          "DC<br>Population: 10421344<br>Total loan amount ($ USD): 36543950<br>Avg loan amount ($ USD): 15169<br>Avg employment length (Years): 4.48",
          "DE<br>Population: 10258390<br>Total loan amount ($ USD): 36345700<br>Avg loan amount ($ USD): 14768<br>Avg employment length (Years): 6.0",
          "FL<br>Population: 9938885<br>Total loan amount ($ USD): 838296675<br>Avg loan amount ($ USD): 13949<br>Avg employment length (Years): 5.46",
          "GA<br>Population: 8953517<br>Total loan amount ($ USD): 428742125<br>Avg loan amount ($ USD): 14952<br>Avg employment length (Years): 5.76",
          "HI<br>Population: 8456029<br>Total loan amount ($ USD): 68797725<br>Avg loan amount ($ USD): 15217<br>Avg employment length (Years): 6.31",
          "IA<br>Population: 7415710<br>Total loan amount ($ USD): 70375<br>Avg loan amount ($ USD): 10053<br>Avg employment length (Years): 2.93",
          "ID<br>Population: 7044577<br>Total loan amount ($ USD): 75750<br>Avg loan amount ($ USD): 8416<br>Avg employment length (Years): 2.28",
          "IL<br>Population: 6839318<br>Total loan amount ($ USD): 532788325<br>Avg loan amount ($ USD): 15209<br>Avg employment length (Years): 5.79",
          "IN<br>Population: 6707332<br>Total loan amount ($ USD): 200671850<br>Avg loan amount ($ USD): 14693<br>Avg employment length (Years): 6.07",
          "KS<br>Population: 6653338<br>Total loan amount ($ USD): 114978700<br>Avg loan amount ($ USD): 14706<br>Avg employment length (Years): 5.95",
          "KY<br>Population: 6109796<br>Total loan amount ($ USD): 120730275<br>Avg loan amount ($ USD): 14301<br>Avg employment length (Years): 6.05",
          "LA<br>Population: 6037911<br>Total loan amount ($ USD): 155059825<br>Avg loan amount ($ USD): 14835<br>Avg employment length (Years): 5.74",
          "MA<br>Population: 5789525<br>Total loan amount ($ USD): 318681500<br>Avg loan amount ($ USD): 15707<br>Avg employment length (Years): 5.7",
          "MD<br>Population: 5632271<br>Total loan amount ($ USD): 321420600<br>Avg loan amount ($ USD): 15493<br>Avg employment length (Years): 5.89",
          "ME<br>Population: 5557469<br>Total loan amount ($ USD): 7641100<br>Avg loan amount ($ USD): 15530<br>Avg employment length (Years): 5.48",
          "MI<br>Population: 5027404<br>Total loan amount ($ USD): 322483300<br>Avg loan amount ($ USD): 14213<br>Avg employment length (Years): 5.93",
          "MN<br>Population: 4872725<br>Total loan amount ($ USD): 226061100<br>Avg loan amount ($ USD): 14332<br>Avg employment length (Years): 5.76",
          "MO<br>Population: 4694372<br>Total loan amount ($ USD): 202470975<br>Avg loan amount ($ USD): 14458<br>Avg employment length (Years): 5.91",
          "MS<br>Population: 4449337<br>Total loan amount ($ USD): 56224050<br>Avg loan amount ($ USD): 14953<br>Avg employment length (Years): 6.05",
          "MT<br>Population: 4162296<br>Total loan amount ($ USD): 34855850<br>Avg loan amount ($ USD): 13798<br>Avg employment length (Years): 5.73",
          "NC<br>Population: 3939708<br>Total loan amount ($ USD): 357390950<br>Avg loan amount ($ USD): 14642<br>Avg employment length (Years): 5.73",
          "ND<br>Population: 3568174<br>Total loan amount ($ USD): 7079000<br>Avg loan amount ($ USD): 15524<br>Avg employment length (Years): 4.97",
          "NE<br>Population: 3147389<br>Total loan amount ($ USD): 16630750<br>Avg loan amount ($ USD): 14575<br>Avg employment length (Years): 5.64",
          "NH<br>Population: 3111802<br>Total loan amount ($ USD): 62720525<br>Avg loan amount ($ USD): 14796<br>Avg employment length (Years): 5.99",
          "NJ<br>Population: 2998643<br>Total loan amount ($ USD): 509584250<br>Avg loan amount ($ USD): 15523<br>Avg employment length (Years): 5.83",
          "NM<br>Population: 2996358<br>Total loan amount ($ USD): 72848825<br>Avg loan amount ($ USD): 14931<br>Avg employment length (Years): 5.78",
          "NV<br>Population: 2988062<br>Total loan amount ($ USD): 170630475<br>Avg loan amount ($ USD): 13873<br>Avg employment length (Years): 5.54",
          "NY<br>Population: 2907857<br>Total loan amount ($ USD): 1063777900<br>Avg loan amount ($ USD): 14549<br>Avg employment length (Years): 5.75",
          "OH<br>Population: 2081702<br>Total loan amount ($ USD): 418051525<br>Avg loan amount ($ USD): 14289<br>Avg employment length (Years): 6.03",
          "OK<br>Population: 1920467<br>Total loan amount ($ USD): 118781350<br>Avg loan amount ($ USD): 14862<br>Avg employment length (Years): 5.74",
          "OR<br>Population: 1821151<br>Total loan amount ($ USD): 148008525<br>Avg loan amount ($ USD): 13729<br>Avg employment length (Years): 5.52",
          "PA<br>Population: 1713452<br>Total loan amount ($ USD): 450813200<br>Avg loan amount ($ USD): 14538<br>Avg employment length (Years): 5.88",
          "RI<br>Population: 1431957<br>Total loan amount ($ USD): 54382450<br>Avg loan amount ($ USD): 14136<br>Avg employment length (Years): 6.19",
          "SC<br>Population: 1339479<br>Total loan amount ($ USD): 155669875<br>Avg loan amount ($ USD): 14808<br>Avg employment length (Years): 5.73",
          "SD<br>Population: 1333505<br>Total loan amount ($ USD): 24599575<br>Avg loan amount ($ USD): 13712<br>Avg employment length (Years): 5.84",
          "TN<br>Population: 1057245<br>Total loan amount ($ USD): 189684525<br>Avg loan amount ($ USD): 14905<br>Avg employment length (Years): 5.91",
          "TX<br>Population: 1052967<br>Total loan amount ($ USD): 1095907425<br>Avg loan amount ($ USD): 15596<br>Avg employment length (Years): 5.62",
          "UT<br>Population: 960054<br>Total loan amount ($ USD): 91034375<br>Avg loan amount ($ USD): 14682<br>Avg employment length (Years): 5.78",
          "VA<br>Population: 872989<br>Total loan amount ($ USD): 406290275<br>Avg loan amount ($ USD): 15675<br>Avg employment length (Years): 5.8",
          "VT<br>Population: 759069<br>Total loan amount ($ USD): 24950325<br>Avg loan amount ($ USD): 14024<br>Avg employment length (Years): 6.16",
          "WA<br>Population: 746079<br>Total loan amount ($ USD): 285851075<br>Avg loan amount ($ USD): 14888<br>Avg employment length (Years): 5.7",
          "WI<br>Population: 691963<br>Total loan amount ($ USD): 163325650<br>Avg loan amount ($ USD): 14309<br>Avg employment length (Years): 6.09",
          "WV<br>Population: 623100<br>Total loan amount ($ USD): 63732775<br>Avg loan amount ($ USD): 14671<br>Avg employment length (Years): 5.94",
          "WY<br>Population: 584447<br>Total loan amount ($ USD): 30821225<br>Avg loan amount ($ USD): 15349<br>Avg employment length (Years): 5.96"
         ],
         "type": "choropleth",
         "z": [
          "16779",
          "14705",
          "14059",
          "14226",
          "14660",
          "14969",
          "15023",
          "15169",
          "14768",
          "13949",
          "14952",
          "15217",
          "10053",
          "8416",
          "15209",
          "14693",
          "14706",
          "14301",
          "14835",
          "15707",
          "15493",
          "15530",
          "14213",
          "14332",
          "14458",
          "14953",
          "13798",
          "14642",
          "15524",
          "14575",
          "14796",
          "15523",
          "14931",
          "13873",
          "14549",
          "14289",
          "14862",
          "13729",
          "14538",
          "14136",
          "14808",
          "13712",
          "14905",
          "15596",
          "14682",
          "15675",
          "14024",
          "14888",
          "14309",
          "14671",
          "15349"
         ]
        }
       ],
       "layout": {
        "geo": {
         "lakecolor": "rgb(255, 255, 255)",
         "projection": {
          "type": "albers usa"
         },
         "scope": "usa",
         "showlakes": true
        },
        "title": "Lending Club Loan<br> Average Loan By State"
       }
      },
      "text/html": [
       "<div id=\"df9a0926-6895-4819-a0c2-baefe463c175\" style=\"height: 525px; width: 100%;\" class=\"plotly-graph-div\"></div><script type=\"text/javascript\">require([\"plotly\"], function(Plotly) { window.PLOTLYENV=window.PLOTLYENV || {};window.PLOTLYENV.BASE_URL=\"https://plot.ly\";Plotly.newPlot(\"df9a0926-6895-4819-a0c2-baefe463c175\", [{\"type\": \"choropleth\", \"colorscale\": [[0.0, \"rgb(242,240,247)\"], [0.2, \"rgb(218,218,235)\"], [0.4, \"rgb(188,189,220)\"], [0.6, \"rgb(158,154,200)\"], [0.8, \"rgb(117,107,177)\"], [1.0, \"rgb(84,39,143)\"]], \"autocolorscale\": false, \"locations\": [\"AK\", \"AL\", \"AR\", \"AZ\", \"CA\", \"CO\", \"CT\", \"DC\", \"DE\", \"FL\", \"GA\", \"HI\", \"IA\", \"ID\", \"IL\", \"IN\", \"KS\", \"KY\", \"LA\", \"MA\", \"MD\", \"ME\", \"MI\", \"MN\", \"MO\", \"MS\", \"MT\", \"NC\", \"ND\", \"NE\", \"NH\", \"NJ\", \"NM\", \"NV\", \"NY\", \"OH\", \"OK\", \"OR\", \"PA\", \"RI\", \"SC\", \"SD\", \"TN\", \"TX\", \"UT\", \"VA\", \"VT\", \"WA\", \"WI\", \"WV\", \"WY\"], \"z\": [\"16779\", \"14705\", \"14059\", \"14226\", \"14660\", \"14969\", \"15023\", \"15169\", \"14768\", \"13949\", \"14952\", \"15217\", \"10053\", \"8416\", \"15209\", \"14693\", \"14706\", \"14301\", \"14835\", \"15707\", \"15493\", \"15530\", \"14213\", \"14332\", \"14458\", \"14953\", \"13798\", \"14642\", \"15524\", \"14575\", \"14796\", \"15523\", \"14931\", \"13873\", \"14549\", \"14289\", \"14862\", \"13729\", \"14538\", \"14136\", \"14808\", \"13712\", \"14905\", \"15596\", \"14682\", \"15675\", \"14024\", \"14888\", \"14309\", \"14671\", \"15349\"], \"locationmode\": \"USA-states\", \"text\": [\"AK<br>Population: 39506094<br>Total loan amount ($ USD): 36680875<br>Avg loan amount ($ USD): 16779<br>Avg employment length (Years): 6.04\", \"AL<br>Population: 28295553<br>Total loan amount ($ USD): 162441750<br>Avg loan amount ($ USD): 14705<br>Avg employment length (Years): 6.18\", \"AR<br>Population: 20979964<br>Total loan amount ($ USD): 92160000<br>Avg loan amount ($ USD): 14059<br>Avg employment length (Years): 5.94\", \"AZ<br>Population: 19743395<br>Total loan amount ($ USD): 286915750<br>Avg loan amount ($ USD): 14226<br>Avg employment length (Years): 5.43\", \"CA<br>Population: 12776550<br>Total loan amount ($ USD): 1877192825<br>Avg loan amount ($ USD): 14660<br>Avg employment length (Years): 5.7\", \"CO<br>Population: 12764031<br>Total loan amount ($ USD): 278077675<br>Avg loan amount ($ USD): 14969<br>Avg employment length (Years): 5.32\", \"CT<br>Population: 11623656<br>Total loan amount ($ USD): 200260000<br>Avg loan amount ($ USD): 15023<br>Avg employment length (Years): 5.97\", \"DC<br>Population: 10421344<br>Total loan amount ($ USD): 36543950<br>Avg loan amount ($ USD): 15169<br>Avg employment length (Years): 4.48\", \"DE<br>Population: 10258390<br>Total loan amount ($ USD): 36345700<br>Avg loan amount ($ USD): 14768<br>Avg employment length (Years): 6.0\", \"FL<br>Population: 9938885<br>Total loan amount ($ USD): 838296675<br>Avg loan amount ($ USD): 13949<br>Avg employment length (Years): 5.46\", \"GA<br>Population: 8953517<br>Total loan amount ($ USD): 428742125<br>Avg loan amount ($ USD): 14952<br>Avg employment length (Years): 5.76\", \"HI<br>Population: 8456029<br>Total loan amount ($ USD): 68797725<br>Avg loan amount ($ USD): 15217<br>Avg employment length (Years): 6.31\", \"IA<br>Population: 7415710<br>Total loan amount ($ USD): 70375<br>Avg loan amount ($ USD): 10053<br>Avg employment length (Years): 2.93\", \"ID<br>Population: 7044577<br>Total loan amount ($ USD): 75750<br>Avg loan amount ($ USD): 8416<br>Avg employment length (Years): 2.28\", \"IL<br>Population: 6839318<br>Total loan amount ($ USD): 532788325<br>Avg loan amount ($ USD): 15209<br>Avg employment length (Years): 5.79\", \"IN<br>Population: 6707332<br>Total loan amount ($ USD): 200671850<br>Avg loan amount ($ USD): 14693<br>Avg employment length (Years): 6.07\", \"KS<br>Population: 6653338<br>Total loan amount ($ USD): 114978700<br>Avg loan amount ($ USD): 14706<br>Avg employment length (Years): 5.95\", \"KY<br>Population: 6109796<br>Total loan amount ($ USD): 120730275<br>Avg loan amount ($ USD): 14301<br>Avg employment length (Years): 6.05\", \"LA<br>Population: 6037911<br>Total loan amount ($ USD): 155059825<br>Avg loan amount ($ USD): 14835<br>Avg employment length (Years): 5.74\", \"MA<br>Population: 5789525<br>Total loan amount ($ USD): 318681500<br>Avg loan amount ($ USD): 15707<br>Avg employment length (Years): 5.7\", \"MD<br>Population: 5632271<br>Total loan amount ($ USD): 321420600<br>Avg loan amount ($ USD): 15493<br>Avg employment length (Years): 5.89\", \"ME<br>Population: 5557469<br>Total loan amount ($ USD): 7641100<br>Avg loan amount ($ USD): 15530<br>Avg employment length (Years): 5.48\", \"MI<br>Population: 5027404<br>Total loan amount ($ USD): 322483300<br>Avg loan amount ($ USD): 14213<br>Avg employment length (Years): 5.93\", \"MN<br>Population: 4872725<br>Total loan amount ($ USD): 226061100<br>Avg loan amount ($ USD): 14332<br>Avg employment length (Years): 5.76\", \"MO<br>Population: 4694372<br>Total loan amount ($ USD): 202470975<br>Avg loan amount ($ USD): 14458<br>Avg employment length (Years): 5.91\", \"MS<br>Population: 4449337<br>Total loan amount ($ USD): 56224050<br>Avg loan amount ($ USD): 14953<br>Avg employment length (Years): 6.05\", \"MT<br>Population: 4162296<br>Total loan amount ($ USD): 34855850<br>Avg loan amount ($ USD): 13798<br>Avg employment length (Years): 5.73\", \"NC<br>Population: 3939708<br>Total loan amount ($ USD): 357390950<br>Avg loan amount ($ USD): 14642<br>Avg employment length (Years): 5.73\", \"ND<br>Population: 3568174<br>Total loan amount ($ USD): 7079000<br>Avg loan amount ($ USD): 15524<br>Avg employment length (Years): 4.97\", \"NE<br>Population: 3147389<br>Total loan amount ($ USD): 16630750<br>Avg loan amount ($ USD): 14575<br>Avg employment length (Years): 5.64\", \"NH<br>Population: 3111802<br>Total loan amount ($ USD): 62720525<br>Avg loan amount ($ USD): 14796<br>Avg employment length (Years): 5.99\", \"NJ<br>Population: 2998643<br>Total loan amount ($ USD): 509584250<br>Avg loan amount ($ USD): 15523<br>Avg employment length (Years): 5.83\", \"NM<br>Population: 2996358<br>Total loan amount ($ USD): 72848825<br>Avg loan amount ($ USD): 14931<br>Avg employment length (Years): 5.78\", \"NV<br>Population: 2988062<br>Total loan amount ($ USD): 170630475<br>Avg loan amount ($ USD): 13873<br>Avg employment length (Years): 5.54\", \"NY<br>Population: 2907857<br>Total loan amount ($ USD): 1063777900<br>Avg loan amount ($ USD): 14549<br>Avg employment length (Years): 5.75\", \"OH<br>Population: 2081702<br>Total loan amount ($ USD): 418051525<br>Avg loan amount ($ USD): 14289<br>Avg employment length (Years): 6.03\", \"OK<br>Population: 1920467<br>Total loan amount ($ USD): 118781350<br>Avg loan amount ($ USD): 14862<br>Avg employment length (Years): 5.74\", \"OR<br>Population: 1821151<br>Total loan amount ($ USD): 148008525<br>Avg loan amount ($ USD): 13729<br>Avg employment length (Years): 5.52\", \"PA<br>Population: 1713452<br>Total loan amount ($ USD): 450813200<br>Avg loan amount ($ USD): 14538<br>Avg employment length (Years): 5.88\", \"RI<br>Population: 1431957<br>Total loan amount ($ USD): 54382450<br>Avg loan amount ($ USD): 14136<br>Avg employment length (Years): 6.19\", \"SC<br>Population: 1339479<br>Total loan amount ($ USD): 155669875<br>Avg loan amount ($ USD): 14808<br>Avg employment length (Years): 5.73\", \"SD<br>Population: 1333505<br>Total loan amount ($ USD): 24599575<br>Avg loan amount ($ USD): 13712<br>Avg employment length (Years): 5.84\", \"TN<br>Population: 1057245<br>Total loan amount ($ USD): 189684525<br>Avg loan amount ($ USD): 14905<br>Avg employment length (Years): 5.91\", \"TX<br>Population: 1052967<br>Total loan amount ($ USD): 1095907425<br>Avg loan amount ($ USD): 15596<br>Avg employment length (Years): 5.62\", \"UT<br>Population: 960054<br>Total loan amount ($ USD): 91034375<br>Avg loan amount ($ USD): 14682<br>Avg employment length (Years): 5.78\", \"VA<br>Population: 872989<br>Total loan amount ($ USD): 406290275<br>Avg loan amount ($ USD): 15675<br>Avg employment length (Years): 5.8\", \"VT<br>Population: 759069<br>Total loan amount ($ USD): 24950325<br>Avg loan amount ($ USD): 14024<br>Avg employment length (Years): 6.16\", \"WA<br>Population: 746079<br>Total loan amount ($ USD): 285851075<br>Avg loan amount ($ USD): 14888<br>Avg employment length (Years): 5.7\", \"WI<br>Population: 691963<br>Total loan amount ($ USD): 163325650<br>Avg loan amount ($ USD): 14309<br>Avg employment length (Years): 6.09\", \"WV<br>Population: 623100<br>Total loan amount ($ USD): 63732775<br>Avg loan amount ($ USD): 14671<br>Avg employment length (Years): 5.94\", \"WY<br>Population: 584447<br>Total loan amount ($ USD): 30821225<br>Avg loan amount ($ USD): 15349<br>Avg employment length (Years): 5.96\"], \"marker\": {\"line\": {\"color\": \"rgb(255,255,255)\", \"width\": 2}}, \"colorbar\": {\"title\": \"$s USD\"}}], {\"title\": \"Lending Club Loan<br> Average Loan By State\", \"geo\": {\"scope\": \"usa\", \"projection\": {\"type\": \"albers usa\"}, \"showlakes\": true, \"lakecolor\": \"rgb(255, 255, 255)\"}}, {\"showLink\": true, \"linkText\": \"Export to plot.ly\"})});</script>"
      ],
      "text/vnd.plotly.v1+html": [
       "<div id=\"df9a0926-6895-4819-a0c2-baefe463c175\" style=\"height: 525px; width: 100%;\" class=\"plotly-graph-div\"></div><script type=\"text/javascript\">require([\"plotly\"], function(Plotly) { window.PLOTLYENV=window.PLOTLYENV || {};window.PLOTLYENV.BASE_URL=\"https://plot.ly\";Plotly.newPlot(\"df9a0926-6895-4819-a0c2-baefe463c175\", [{\"type\": \"choropleth\", \"colorscale\": [[0.0, \"rgb(242,240,247)\"], [0.2, \"rgb(218,218,235)\"], [0.4, \"rgb(188,189,220)\"], [0.6, \"rgb(158,154,200)\"], [0.8, \"rgb(117,107,177)\"], [1.0, \"rgb(84,39,143)\"]], \"autocolorscale\": false, \"locations\": [\"AK\", \"AL\", \"AR\", \"AZ\", \"CA\", \"CO\", \"CT\", \"DC\", \"DE\", \"FL\", \"GA\", \"HI\", \"IA\", \"ID\", \"IL\", \"IN\", \"KS\", \"KY\", \"LA\", \"MA\", \"MD\", \"ME\", \"MI\", \"MN\", \"MO\", \"MS\", \"MT\", \"NC\", \"ND\", \"NE\", \"NH\", \"NJ\", \"NM\", \"NV\", \"NY\", \"OH\", \"OK\", \"OR\", \"PA\", \"RI\", \"SC\", \"SD\", \"TN\", \"TX\", \"UT\", \"VA\", \"VT\", \"WA\", \"WI\", \"WV\", \"WY\"], \"z\": [\"16779\", \"14705\", \"14059\", \"14226\", \"14660\", \"14969\", \"15023\", \"15169\", \"14768\", \"13949\", \"14952\", \"15217\", \"10053\", \"8416\", \"15209\", \"14693\", \"14706\", \"14301\", \"14835\", \"15707\", \"15493\", \"15530\", \"14213\", \"14332\", \"14458\", \"14953\", \"13798\", \"14642\", \"15524\", \"14575\", \"14796\", \"15523\", \"14931\", \"13873\", \"14549\", \"14289\", \"14862\", \"13729\", \"14538\", \"14136\", \"14808\", \"13712\", \"14905\", \"15596\", \"14682\", \"15675\", \"14024\", \"14888\", \"14309\", \"14671\", \"15349\"], \"locationmode\": \"USA-states\", \"text\": [\"AK<br>Population: 39506094<br>Total loan amount ($ USD): 36680875<br>Avg loan amount ($ USD): 16779<br>Avg employment length (Years): 6.04\", \"AL<br>Population: 28295553<br>Total loan amount ($ USD): 162441750<br>Avg loan amount ($ USD): 14705<br>Avg employment length (Years): 6.18\", \"AR<br>Population: 20979964<br>Total loan amount ($ USD): 92160000<br>Avg loan amount ($ USD): 14059<br>Avg employment length (Years): 5.94\", \"AZ<br>Population: 19743395<br>Total loan amount ($ USD): 286915750<br>Avg loan amount ($ USD): 14226<br>Avg employment length (Years): 5.43\", \"CA<br>Population: 12776550<br>Total loan amount ($ USD): 1877192825<br>Avg loan amount ($ USD): 14660<br>Avg employment length (Years): 5.7\", \"CO<br>Population: 12764031<br>Total loan amount ($ USD): 278077675<br>Avg loan amount ($ USD): 14969<br>Avg employment length (Years): 5.32\", \"CT<br>Population: 11623656<br>Total loan amount ($ USD): 200260000<br>Avg loan amount ($ USD): 15023<br>Avg employment length (Years): 5.97\", \"DC<br>Population: 10421344<br>Total loan amount ($ USD): 36543950<br>Avg loan amount ($ USD): 15169<br>Avg employment length (Years): 4.48\", \"DE<br>Population: 10258390<br>Total loan amount ($ USD): 36345700<br>Avg loan amount ($ USD): 14768<br>Avg employment length (Years): 6.0\", \"FL<br>Population: 9938885<br>Total loan amount ($ USD): 838296675<br>Avg loan amount ($ USD): 13949<br>Avg employment length (Years): 5.46\", \"GA<br>Population: 8953517<br>Total loan amount ($ USD): 428742125<br>Avg loan amount ($ USD): 14952<br>Avg employment length (Years): 5.76\", \"HI<br>Population: 8456029<br>Total loan amount ($ USD): 68797725<br>Avg loan amount ($ USD): 15217<br>Avg employment length (Years): 6.31\", \"IA<br>Population: 7415710<br>Total loan amount ($ USD): 70375<br>Avg loan amount ($ USD): 10053<br>Avg employment length (Years): 2.93\", \"ID<br>Population: 7044577<br>Total loan amount ($ USD): 75750<br>Avg loan amount ($ USD): 8416<br>Avg employment length (Years): 2.28\", \"IL<br>Population: 6839318<br>Total loan amount ($ USD): 532788325<br>Avg loan amount ($ USD): 15209<br>Avg employment length (Years): 5.79\", \"IN<br>Population: 6707332<br>Total loan amount ($ USD): 200671850<br>Avg loan amount ($ USD): 14693<br>Avg employment length (Years): 6.07\", \"KS<br>Population: 6653338<br>Total loan amount ($ USD): 114978700<br>Avg loan amount ($ USD): 14706<br>Avg employment length (Years): 5.95\", \"KY<br>Population: 6109796<br>Total loan amount ($ USD): 120730275<br>Avg loan amount ($ USD): 14301<br>Avg employment length (Years): 6.05\", \"LA<br>Population: 6037911<br>Total loan amount ($ USD): 155059825<br>Avg loan amount ($ USD): 14835<br>Avg employment length (Years): 5.74\", \"MA<br>Population: 5789525<br>Total loan amount ($ USD): 318681500<br>Avg loan amount ($ USD): 15707<br>Avg employment length (Years): 5.7\", \"MD<br>Population: 5632271<br>Total loan amount ($ USD): 321420600<br>Avg loan amount ($ USD): 15493<br>Avg employment length (Years): 5.89\", \"ME<br>Population: 5557469<br>Total loan amount ($ USD): 7641100<br>Avg loan amount ($ USD): 15530<br>Avg employment length (Years): 5.48\", \"MI<br>Population: 5027404<br>Total loan amount ($ USD): 322483300<br>Avg loan amount ($ USD): 14213<br>Avg employment length (Years): 5.93\", \"MN<br>Population: 4872725<br>Total loan amount ($ USD): 226061100<br>Avg loan amount ($ USD): 14332<br>Avg employment length (Years): 5.76\", \"MO<br>Population: 4694372<br>Total loan amount ($ USD): 202470975<br>Avg loan amount ($ USD): 14458<br>Avg employment length (Years): 5.91\", \"MS<br>Population: 4449337<br>Total loan amount ($ USD): 56224050<br>Avg loan amount ($ USD): 14953<br>Avg employment length (Years): 6.05\", \"MT<br>Population: 4162296<br>Total loan amount ($ USD): 34855850<br>Avg loan amount ($ USD): 13798<br>Avg employment length (Years): 5.73\", \"NC<br>Population: 3939708<br>Total loan amount ($ USD): 357390950<br>Avg loan amount ($ USD): 14642<br>Avg employment length (Years): 5.73\", \"ND<br>Population: 3568174<br>Total loan amount ($ USD): 7079000<br>Avg loan amount ($ USD): 15524<br>Avg employment length (Years): 4.97\", \"NE<br>Population: 3147389<br>Total loan amount ($ USD): 16630750<br>Avg loan amount ($ USD): 14575<br>Avg employment length (Years): 5.64\", \"NH<br>Population: 3111802<br>Total loan amount ($ USD): 62720525<br>Avg loan amount ($ USD): 14796<br>Avg employment length (Years): 5.99\", \"NJ<br>Population: 2998643<br>Total loan amount ($ USD): 509584250<br>Avg loan amount ($ USD): 15523<br>Avg employment length (Years): 5.83\", \"NM<br>Population: 2996358<br>Total loan amount ($ USD): 72848825<br>Avg loan amount ($ USD): 14931<br>Avg employment length (Years): 5.78\", \"NV<br>Population: 2988062<br>Total loan amount ($ USD): 170630475<br>Avg loan amount ($ USD): 13873<br>Avg employment length (Years): 5.54\", \"NY<br>Population: 2907857<br>Total loan amount ($ USD): 1063777900<br>Avg loan amount ($ USD): 14549<br>Avg employment length (Years): 5.75\", \"OH<br>Population: 2081702<br>Total loan amount ($ USD): 418051525<br>Avg loan amount ($ USD): 14289<br>Avg employment length (Years): 6.03\", \"OK<br>Population: 1920467<br>Total loan amount ($ USD): 118781350<br>Avg loan amount ($ USD): 14862<br>Avg employment length (Years): 5.74\", \"OR<br>Population: 1821151<br>Total loan amount ($ USD): 148008525<br>Avg loan amount ($ USD): 13729<br>Avg employment length (Years): 5.52\", \"PA<br>Population: 1713452<br>Total loan amount ($ USD): 450813200<br>Avg loan amount ($ USD): 14538<br>Avg employment length (Years): 5.88\", \"RI<br>Population: 1431957<br>Total loan amount ($ USD): 54382450<br>Avg loan amount ($ USD): 14136<br>Avg employment length (Years): 6.19\", \"SC<br>Population: 1339479<br>Total loan amount ($ USD): 155669875<br>Avg loan amount ($ USD): 14808<br>Avg employment length (Years): 5.73\", \"SD<br>Population: 1333505<br>Total loan amount ($ USD): 24599575<br>Avg loan amount ($ USD): 13712<br>Avg employment length (Years): 5.84\", \"TN<br>Population: 1057245<br>Total loan amount ($ USD): 189684525<br>Avg loan amount ($ USD): 14905<br>Avg employment length (Years): 5.91\", \"TX<br>Population: 1052967<br>Total loan amount ($ USD): 1095907425<br>Avg loan amount ($ USD): 15596<br>Avg employment length (Years): 5.62\", \"UT<br>Population: 960054<br>Total loan amount ($ USD): 91034375<br>Avg loan amount ($ USD): 14682<br>Avg employment length (Years): 5.78\", \"VA<br>Population: 872989<br>Total loan amount ($ USD): 406290275<br>Avg loan amount ($ USD): 15675<br>Avg employment length (Years): 5.8\", \"VT<br>Population: 759069<br>Total loan amount ($ USD): 24950325<br>Avg loan amount ($ USD): 14024<br>Avg employment length (Years): 6.16\", \"WA<br>Population: 746079<br>Total loan amount ($ USD): 285851075<br>Avg loan amount ($ USD): 14888<br>Avg employment length (Years): 5.7\", \"WI<br>Population: 691963<br>Total loan amount ($ USD): 163325650<br>Avg loan amount ($ USD): 14309<br>Avg employment length (Years): 6.09\", \"WV<br>Population: 623100<br>Total loan amount ($ USD): 63732775<br>Avg loan amount ($ USD): 14671<br>Avg employment length (Years): 5.94\", \"WY<br>Population: 584447<br>Total loan amount ($ USD): 30821225<br>Avg loan amount ($ USD): 15349<br>Avg employment length (Years): 5.96\"], \"marker\": {\"line\": {\"color\": \"rgb(255,255,255)\", \"width\": 2}}, \"colorbar\": {\"title\": \"$s USD\"}}], {\"title\": \"Lending Club Loan<br> Average Loan By State\", \"geo\": {\"scope\": \"usa\", \"projection\": {\"type\": \"albers usa\"}, \"showlakes\": true, \"lakecolor\": \"rgb(255, 255, 255)\"}}, {\"showLink\": true, \"linkText\": \"Export to plot.ly\"})});</script>"
      ]
     },
     "metadata": {},
     "output_type": "display_data"
    }
   ],
   "source": [
    "data = [ dict(\n",
    "        type='choropleth',\n",
    "        colorscale = scl,\n",
    "        autocolorscale = False,\n",
    "        locations = df_region['addr_state'],\n",
    "        z = df_region['avg_loan_amnt_by_state'], \n",
    "        locationmode = 'USA-states',\n",
    "        text = df_region['text'],\n",
    "        marker = dict(\n",
    "            line = dict (\n",
    "                color = 'rgb(255,255,255)',\n",
    "                width = 2\n",
    "            ) ),\n",
    "        colorbar = dict(\n",
    "            title = \"$s USD\")\n",
    "        ) ]\n",
    "\n",
    "layout = dict(\n",
    "        title = 'Lending Club Loan<br> Average Loan By State',\n",
    "        geo = dict(\n",
    "            scope='usa',\n",
    "            projection=dict( type='albers usa' ),\n",
    "            showlakes = True,\n",
    "            lakecolor = 'rgb(255, 255, 255)'),\n",
    "             )\n",
    "    \n",
    "fig = dict( data=data, layout=layout )\n",
    "iplot( fig, filename='d3-cloropleth-map' )"
   ]
  },
  {
   "cell_type": "code",
   "execution_count": 23,
   "metadata": {
    "collapsed": true
   },
   "outputs": [],
   "source": [
    "# Create another map\n",
    "d = df_copy[df_copy[\"loan_status\"].isin([\"Late (16-30 days)\",\"Late (31-120 days)\",\"Default\", \"Charged Off\", \"Does not meet the credit policy. Status:Charged Off\"])].groupby(\"addr_state\").size()\n",
    "d = d.to_frame()"
   ]
  },
  {
   "cell_type": "code",
   "execution_count": 24,
   "metadata": {
    "collapsed": true
   },
   "outputs": [],
   "source": [
    "e = pd.DataFrame([0],index=[\"ME\"])\n",
    "f = pd.concat([d,e])\n",
    "f_copy = f.copy()\n",
    "addr_state = f_copy.index\n",
    "f.index = list(range(1,52))\n",
    "f[\"addr_state\"] = addr_state\n",
    "f = f.sort_values(by=\"addr_state\")\n",
    "f.index = list(range(1,52))\n",
    "df_region[\"num_default\"] = f[0]\n",
    "\n",
    "temp = []\n",
    "\n",
    "for x, y in zip(df_region[\"num_default\"], df_region[\"num_issued\"].astype(int)):\n",
    "    if x is not 0 and y is not 0:\n",
    "        value = (x/y)\n",
    "        value = \"{0:.2f}\".format(value)\n",
    "        value = float(value)\n",
    "        temp.append(value)\n",
    "    else:\n",
    "        temp.append(0)\n",
    "df_region[\"default_rate\"] = temp"
   ]
  },
  {
   "cell_type": "code",
   "execution_count": 25,
   "metadata": {
    "collapsed": true
   },
   "outputs": [],
   "source": [
    "# Average dti by the state\n",
    "dti = df_copy.groupby(\"addr_state\").agg([np.mean])[\"dti\"]\n",
    "dti.columns = [\"dti\"]\n",
    "dti.index = list(range(1,52))\n",
    "df_region = df_region.join(dti)"
   ]
  },
  {
   "cell_type": "code",
   "execution_count": 26,
   "metadata": {
    "scrolled": false
   },
   "outputs": [
    {
     "data": {
      "application/vnd.plotly.v1+json": {
       "data": [
        {
         "autocolorscale": true,
         "colorbar": {
          "title": "%"
         },
         "colorscale": [
          [
           0,
           "rgb(242,240,247)"
          ],
          [
           0.2,
           "rgb(218,218,235)"
          ],
          [
           0.4,
           "rgb(188,189,220)"
          ],
          [
           0.6,
           "rgb(158,154,200)"
          ],
          [
           0.8,
           "rgb(117,107,177)"
          ],
          [
           1,
           "rgb(84,39,143)"
          ]
         ],
         "locationmode": "USA-states",
         "locations": [
          "AK",
          "AL",
          "AR",
          "AZ",
          "CA",
          "CO",
          "CT",
          "DC",
          "DE",
          "FL",
          "GA",
          "HI",
          "IA",
          "ID",
          "IL",
          "IN",
          "KS",
          "KY",
          "LA",
          "MA",
          "MD",
          "ME",
          "MI",
          "MN",
          "MO",
          "MS",
          "MT",
          "NC",
          "ND",
          "NE",
          "NH",
          "NJ",
          "NM",
          "NV",
          "NY",
          "OH",
          "OK",
          "OR",
          "PA",
          "RI",
          "SC",
          "SD",
          "TN",
          "TX",
          "UT",
          "VA",
          "VT",
          "WA",
          "WI",
          "WV",
          "WY"
         ],
         "marker": {
          "line": {
           "color": "rgb(255,255,255)",
           "width": 2
          }
         },
         "text": [
          "AK<br>Default Rate: 0.06<br>DTI: 18.6096020128",
          "AL<br>Default Rate: 0.08<br>DTI: 20.0379150824",
          "AR<br>Default Rate: 0.07<br>DTI: 20.0083600305",
          "AZ<br>Default Rate: 0.07<br>DTI: 18.0378490678",
          "CA<br>Default Rate: 0.07<br>DTI: 16.7249534542",
          "CO<br>Default Rate: 0.06<br>DTI: 18.1849682386",
          "CT<br>Default Rate: 0.06<br>DTI: 17.0009257314",
          "DC<br>Default Rate: 0.04<br>DTI: 15.3162515567",
          "DE<br>Default Rate: 0.07<br>DTI: 18.6171637546",
          "FL<br>Default Rate: 0.08<br>DTI: 18.4182441427",
          "GA<br>Default Rate: 0.06<br>DTI: 18.7305709204",
          "HI<br>Default Rate: 0.08<br>DTI: 19.242189781",
          "IA<br>Default Rate: 0.14<br>DTI: 15.0142857143",
          "ID<br>Default Rate: 0.11<br>DTI: 14.8333333333",
          "IL<br>Default Rate: 0.06<br>DTI: 17.8258442522",
          "IN<br>Default Rate: 0.06<br>DTI: 19.6752214981",
          "KS<br>Default Rate: 0.06<br>DTI: 19.2771667946",
          "KY<br>Default Rate: 0.07<br>DTI: 19.4759381663",
          "LA<br>Default Rate: 0.07<br>DTI: 19.2178702641",
          "MA<br>Default Rate: 0.07<br>DTI: 16.7574975355",
          "MD<br>Default Rate: 0.07<br>DTI: 17.7222592307",
          "ME<br>Default Rate: 0.0<br>DTI: 21.0111178862",
          "MI<br>Default Rate: 0.07<br>DTI: 18.6854771034",
          "MN<br>Default Rate: 0.07<br>DTI: 18.4491986306",
          "MO<br>Default Rate: 0.07<br>DTI: 19.2297215081",
          "MS<br>Default Rate: 0.04<br>DTI: 20.8041835106",
          "MT<br>Default Rate: 0.06<br>DTI: 19.302858274",
          "NC<br>Default Rate: 0.07<br>DTI: 18.7121288974",
          "ND<br>Default Rate: 0.01<br>DTI: 20.7724561404",
          "NE<br>Default Rate: 0.01<br>DTI: 20.6557581069",
          "NH<br>Default Rate: 0.05<br>DTI: 18.7453432413",
          "NJ<br>Default Rate: 0.07<br>DTI: 16.8209437353",
          "NM<br>Default Rate: 0.07<br>DTI: 19.7847837672",
          "NV<br>Default Rate: 0.09<br>DTI: 18.2902366046",
          "NY<br>Default Rate: 0.08<br>DTI: 16.54163097",
          "OH<br>Default Rate: 0.07<br>DTI: 19.4740907848",
          "OK<br>Default Rate: 0.07<br>DTI: 19.5152327327",
          "OR<br>Default Rate: 0.06<br>DTI: 17.6446122449",
          "PA<br>Default Rate: 0.07<br>DTI: 18.9767644877",
          "RI<br>Default Rate: 0.07<br>DTI: 17.48309072",
          "SC<br>Default Rate: 0.06<br>DTI: 19.416201484",
          "SD<br>Default Rate: 0.07<br>DTI: 20.5889632107",
          "TN<br>Default Rate: 0.06<br>DTI: 19.8101846613",
          "TX<br>Default Rate: 0.06<br>DTI: 19.4348990977",
          "UT<br>Default Rate: 0.07<br>DTI: 18.6383274194",
          "VA<br>Default Rate: 0.08<br>DTI: 18.2628736785",
          "VT<br>Default Rate: 0.05<br>DTI: 20.0430185497",
          "WA<br>Default Rate: 0.07<br>DTI: 17.930159375",
          "WI<br>Default Rate: 0.06<br>DTI: 18.804191344",
          "WV<br>Default Rate: 0.05<br>DTI: 20.1087338858",
          "WY<br>Default Rate: 0.05<br>DTI: 19.892310757"
         ],
         "type": "choropleth",
         "z": [
          "0.06",
          "0.08",
          "0.07",
          "0.07",
          "0.07",
          "0.06",
          "0.06",
          "0.04",
          "0.07",
          "0.08",
          "0.06",
          "0.08",
          "0.14",
          "0.11",
          "0.06",
          "0.06",
          "0.06",
          "0.07",
          "0.07",
          "0.07",
          "0.07",
          "0.0",
          "0.07",
          "0.07",
          "0.07",
          "0.04",
          "0.06",
          "0.07",
          "0.01",
          "0.01",
          "0.05",
          "0.07",
          "0.07",
          "0.09",
          "0.08",
          "0.07",
          "0.07",
          "0.06",
          "0.07",
          "0.07",
          "0.06",
          "0.07",
          "0.06",
          "0.06",
          "0.07",
          "0.08",
          "0.05",
          "0.07",
          "0.06",
          "0.05",
          "0.05"
         ]
        }
       ],
       "layout": {
        "geo": {
         "lakecolor": "rgb(255, 255, 255)",
         "projection": {
          "type": "albers usa"
         },
         "scope": "usa",
         "showlakes": true
        },
        "title": "Lending Club Loan <br> Default Rate By State"
       }
      },
      "text/html": [
       "<div id=\"9793fbbd-67bc-455a-a29d-ee21ae8c1145\" style=\"height: 525px; width: 100%;\" class=\"plotly-graph-div\"></div><script type=\"text/javascript\">require([\"plotly\"], function(Plotly) { window.PLOTLYENV=window.PLOTLYENV || {};window.PLOTLYENV.BASE_URL=\"https://plot.ly\";Plotly.newPlot(\"9793fbbd-67bc-455a-a29d-ee21ae8c1145\", [{\"type\": \"choropleth\", \"colorscale\": [[0.0, \"rgb(242,240,247)\"], [0.2, \"rgb(218,218,235)\"], [0.4, \"rgb(188,189,220)\"], [0.6, \"rgb(158,154,200)\"], [0.8, \"rgb(117,107,177)\"], [1.0, \"rgb(84,39,143)\"]], \"autocolorscale\": true, \"locations\": [\"AK\", \"AL\", \"AR\", \"AZ\", \"CA\", \"CO\", \"CT\", \"DC\", \"DE\", \"FL\", \"GA\", \"HI\", \"IA\", \"ID\", \"IL\", \"IN\", \"KS\", \"KY\", \"LA\", \"MA\", \"MD\", \"ME\", \"MI\", \"MN\", \"MO\", \"MS\", \"MT\", \"NC\", \"ND\", \"NE\", \"NH\", \"NJ\", \"NM\", \"NV\", \"NY\", \"OH\", \"OK\", \"OR\", \"PA\", \"RI\", \"SC\", \"SD\", \"TN\", \"TX\", \"UT\", \"VA\", \"VT\", \"WA\", \"WI\", \"WV\", \"WY\"], \"z\": [\"0.06\", \"0.08\", \"0.07\", \"0.07\", \"0.07\", \"0.06\", \"0.06\", \"0.04\", \"0.07\", \"0.08\", \"0.06\", \"0.08\", \"0.14\", \"0.11\", \"0.06\", \"0.06\", \"0.06\", \"0.07\", \"0.07\", \"0.07\", \"0.07\", \"0.0\", \"0.07\", \"0.07\", \"0.07\", \"0.04\", \"0.06\", \"0.07\", \"0.01\", \"0.01\", \"0.05\", \"0.07\", \"0.07\", \"0.09\", \"0.08\", \"0.07\", \"0.07\", \"0.06\", \"0.07\", \"0.07\", \"0.06\", \"0.07\", \"0.06\", \"0.06\", \"0.07\", \"0.08\", \"0.05\", \"0.07\", \"0.06\", \"0.05\", \"0.05\"], \"locationmode\": \"USA-states\", \"text\": [\"AK<br>Default Rate: 0.06<br>DTI: 18.6096020128\", \"AL<br>Default Rate: 0.08<br>DTI: 20.0379150824\", \"AR<br>Default Rate: 0.07<br>DTI: 20.0083600305\", \"AZ<br>Default Rate: 0.07<br>DTI: 18.0378490678\", \"CA<br>Default Rate: 0.07<br>DTI: 16.7249534542\", \"CO<br>Default Rate: 0.06<br>DTI: 18.1849682386\", \"CT<br>Default Rate: 0.06<br>DTI: 17.0009257314\", \"DC<br>Default Rate: 0.04<br>DTI: 15.3162515567\", \"DE<br>Default Rate: 0.07<br>DTI: 18.6171637546\", \"FL<br>Default Rate: 0.08<br>DTI: 18.4182441427\", \"GA<br>Default Rate: 0.06<br>DTI: 18.7305709204\", \"HI<br>Default Rate: 0.08<br>DTI: 19.242189781\", \"IA<br>Default Rate: 0.14<br>DTI: 15.0142857143\", \"ID<br>Default Rate: 0.11<br>DTI: 14.8333333333\", \"IL<br>Default Rate: 0.06<br>DTI: 17.8258442522\", \"IN<br>Default Rate: 0.06<br>DTI: 19.6752214981\", \"KS<br>Default Rate: 0.06<br>DTI: 19.2771667946\", \"KY<br>Default Rate: 0.07<br>DTI: 19.4759381663\", \"LA<br>Default Rate: 0.07<br>DTI: 19.2178702641\", \"MA<br>Default Rate: 0.07<br>DTI: 16.7574975355\", \"MD<br>Default Rate: 0.07<br>DTI: 17.7222592307\", \"ME<br>Default Rate: 0.0<br>DTI: 21.0111178862\", \"MI<br>Default Rate: 0.07<br>DTI: 18.6854771034\", \"MN<br>Default Rate: 0.07<br>DTI: 18.4491986306\", \"MO<br>Default Rate: 0.07<br>DTI: 19.2297215081\", \"MS<br>Default Rate: 0.04<br>DTI: 20.8041835106\", \"MT<br>Default Rate: 0.06<br>DTI: 19.302858274\", \"NC<br>Default Rate: 0.07<br>DTI: 18.7121288974\", \"ND<br>Default Rate: 0.01<br>DTI: 20.7724561404\", \"NE<br>Default Rate: 0.01<br>DTI: 20.6557581069\", \"NH<br>Default Rate: 0.05<br>DTI: 18.7453432413\", \"NJ<br>Default Rate: 0.07<br>DTI: 16.8209437353\", \"NM<br>Default Rate: 0.07<br>DTI: 19.7847837672\", \"NV<br>Default Rate: 0.09<br>DTI: 18.2902366046\", \"NY<br>Default Rate: 0.08<br>DTI: 16.54163097\", \"OH<br>Default Rate: 0.07<br>DTI: 19.4740907848\", \"OK<br>Default Rate: 0.07<br>DTI: 19.5152327327\", \"OR<br>Default Rate: 0.06<br>DTI: 17.6446122449\", \"PA<br>Default Rate: 0.07<br>DTI: 18.9767644877\", \"RI<br>Default Rate: 0.07<br>DTI: 17.48309072\", \"SC<br>Default Rate: 0.06<br>DTI: 19.416201484\", \"SD<br>Default Rate: 0.07<br>DTI: 20.5889632107\", \"TN<br>Default Rate: 0.06<br>DTI: 19.8101846613\", \"TX<br>Default Rate: 0.06<br>DTI: 19.4348990977\", \"UT<br>Default Rate: 0.07<br>DTI: 18.6383274194\", \"VA<br>Default Rate: 0.08<br>DTI: 18.2628736785\", \"VT<br>Default Rate: 0.05<br>DTI: 20.0430185497\", \"WA<br>Default Rate: 0.07<br>DTI: 17.930159375\", \"WI<br>Default Rate: 0.06<br>DTI: 18.804191344\", \"WV<br>Default Rate: 0.05<br>DTI: 20.1087338858\", \"WY<br>Default Rate: 0.05<br>DTI: 19.892310757\"], \"marker\": {\"line\": {\"color\": \"rgb(255,255,255)\", \"width\": 2}}, \"colorbar\": {\"title\": \"%\"}}], {\"title\": \"Lending Club Loan <br> Default Rate By State\", \"geo\": {\"scope\": \"usa\", \"projection\": {\"type\": \"albers usa\"}, \"showlakes\": true, \"lakecolor\": \"rgb(255, 255, 255)\"}}, {\"showLink\": true, \"linkText\": \"Export to plot.ly\"})});</script>"
      ],
      "text/vnd.plotly.v1+html": [
       "<div id=\"9793fbbd-67bc-455a-a29d-ee21ae8c1145\" style=\"height: 525px; width: 100%;\" class=\"plotly-graph-div\"></div><script type=\"text/javascript\">require([\"plotly\"], function(Plotly) { window.PLOTLYENV=window.PLOTLYENV || {};window.PLOTLYENV.BASE_URL=\"https://plot.ly\";Plotly.newPlot(\"9793fbbd-67bc-455a-a29d-ee21ae8c1145\", [{\"type\": \"choropleth\", \"colorscale\": [[0.0, \"rgb(242,240,247)\"], [0.2, \"rgb(218,218,235)\"], [0.4, \"rgb(188,189,220)\"], [0.6, \"rgb(158,154,200)\"], [0.8, \"rgb(117,107,177)\"], [1.0, \"rgb(84,39,143)\"]], \"autocolorscale\": true, \"locations\": [\"AK\", \"AL\", \"AR\", \"AZ\", \"CA\", \"CO\", \"CT\", \"DC\", \"DE\", \"FL\", \"GA\", \"HI\", \"IA\", \"ID\", \"IL\", \"IN\", \"KS\", \"KY\", \"LA\", \"MA\", \"MD\", \"ME\", \"MI\", \"MN\", \"MO\", \"MS\", \"MT\", \"NC\", \"ND\", \"NE\", \"NH\", \"NJ\", \"NM\", \"NV\", \"NY\", \"OH\", \"OK\", \"OR\", \"PA\", \"RI\", \"SC\", \"SD\", \"TN\", \"TX\", \"UT\", \"VA\", \"VT\", \"WA\", \"WI\", \"WV\", \"WY\"], \"z\": [\"0.06\", \"0.08\", \"0.07\", \"0.07\", \"0.07\", \"0.06\", \"0.06\", \"0.04\", \"0.07\", \"0.08\", \"0.06\", \"0.08\", \"0.14\", \"0.11\", \"0.06\", \"0.06\", \"0.06\", \"0.07\", \"0.07\", \"0.07\", \"0.07\", \"0.0\", \"0.07\", \"0.07\", \"0.07\", \"0.04\", \"0.06\", \"0.07\", \"0.01\", \"0.01\", \"0.05\", \"0.07\", \"0.07\", \"0.09\", \"0.08\", \"0.07\", \"0.07\", \"0.06\", \"0.07\", \"0.07\", \"0.06\", \"0.07\", \"0.06\", \"0.06\", \"0.07\", \"0.08\", \"0.05\", \"0.07\", \"0.06\", \"0.05\", \"0.05\"], \"locationmode\": \"USA-states\", \"text\": [\"AK<br>Default Rate: 0.06<br>DTI: 18.6096020128\", \"AL<br>Default Rate: 0.08<br>DTI: 20.0379150824\", \"AR<br>Default Rate: 0.07<br>DTI: 20.0083600305\", \"AZ<br>Default Rate: 0.07<br>DTI: 18.0378490678\", \"CA<br>Default Rate: 0.07<br>DTI: 16.7249534542\", \"CO<br>Default Rate: 0.06<br>DTI: 18.1849682386\", \"CT<br>Default Rate: 0.06<br>DTI: 17.0009257314\", \"DC<br>Default Rate: 0.04<br>DTI: 15.3162515567\", \"DE<br>Default Rate: 0.07<br>DTI: 18.6171637546\", \"FL<br>Default Rate: 0.08<br>DTI: 18.4182441427\", \"GA<br>Default Rate: 0.06<br>DTI: 18.7305709204\", \"HI<br>Default Rate: 0.08<br>DTI: 19.242189781\", \"IA<br>Default Rate: 0.14<br>DTI: 15.0142857143\", \"ID<br>Default Rate: 0.11<br>DTI: 14.8333333333\", \"IL<br>Default Rate: 0.06<br>DTI: 17.8258442522\", \"IN<br>Default Rate: 0.06<br>DTI: 19.6752214981\", \"KS<br>Default Rate: 0.06<br>DTI: 19.2771667946\", \"KY<br>Default Rate: 0.07<br>DTI: 19.4759381663\", \"LA<br>Default Rate: 0.07<br>DTI: 19.2178702641\", \"MA<br>Default Rate: 0.07<br>DTI: 16.7574975355\", \"MD<br>Default Rate: 0.07<br>DTI: 17.7222592307\", \"ME<br>Default Rate: 0.0<br>DTI: 21.0111178862\", \"MI<br>Default Rate: 0.07<br>DTI: 18.6854771034\", \"MN<br>Default Rate: 0.07<br>DTI: 18.4491986306\", \"MO<br>Default Rate: 0.07<br>DTI: 19.2297215081\", \"MS<br>Default Rate: 0.04<br>DTI: 20.8041835106\", \"MT<br>Default Rate: 0.06<br>DTI: 19.302858274\", \"NC<br>Default Rate: 0.07<br>DTI: 18.7121288974\", \"ND<br>Default Rate: 0.01<br>DTI: 20.7724561404\", \"NE<br>Default Rate: 0.01<br>DTI: 20.6557581069\", \"NH<br>Default Rate: 0.05<br>DTI: 18.7453432413\", \"NJ<br>Default Rate: 0.07<br>DTI: 16.8209437353\", \"NM<br>Default Rate: 0.07<br>DTI: 19.7847837672\", \"NV<br>Default Rate: 0.09<br>DTI: 18.2902366046\", \"NY<br>Default Rate: 0.08<br>DTI: 16.54163097\", \"OH<br>Default Rate: 0.07<br>DTI: 19.4740907848\", \"OK<br>Default Rate: 0.07<br>DTI: 19.5152327327\", \"OR<br>Default Rate: 0.06<br>DTI: 17.6446122449\", \"PA<br>Default Rate: 0.07<br>DTI: 18.9767644877\", \"RI<br>Default Rate: 0.07<br>DTI: 17.48309072\", \"SC<br>Default Rate: 0.06<br>DTI: 19.416201484\", \"SD<br>Default Rate: 0.07<br>DTI: 20.5889632107\", \"TN<br>Default Rate: 0.06<br>DTI: 19.8101846613\", \"TX<br>Default Rate: 0.06<br>DTI: 19.4348990977\", \"UT<br>Default Rate: 0.07<br>DTI: 18.6383274194\", \"VA<br>Default Rate: 0.08<br>DTI: 18.2628736785\", \"VT<br>Default Rate: 0.05<br>DTI: 20.0430185497\", \"WA<br>Default Rate: 0.07<br>DTI: 17.930159375\", \"WI<br>Default Rate: 0.06<br>DTI: 18.804191344\", \"WV<br>Default Rate: 0.05<br>DTI: 20.1087338858\", \"WY<br>Default Rate: 0.05<br>DTI: 19.892310757\"], \"marker\": {\"line\": {\"color\": \"rgb(255,255,255)\", \"width\": 2}}, \"colorbar\": {\"title\": \"%\"}}], {\"title\": \"Lending Club Loan <br> Default Rate By State\", \"geo\": {\"scope\": \"usa\", \"projection\": {\"type\": \"albers usa\"}, \"showlakes\": true, \"lakecolor\": \"rgb(255, 255, 255)\"}}, {\"showLink\": true, \"linkText\": \"Export to plot.ly\"})});</script>"
      ]
     },
     "metadata": {},
     "output_type": "display_data"
    }
   ],
   "source": [
    "for x in df_region.columns:\n",
    "    df_region[x] = df_region[x].astype(str)\n",
    "    \n",
    "data = [ dict(\n",
    "        type='choropleth',\n",
    "        colorscale = scl,\n",
    "        autocolorscale = True,\n",
    "        locations = df_region['addr_state'],\n",
    "        z = df_region[\"default_rate\"], \n",
    "        locationmode = 'USA-states',\n",
    "        text =df_region[\"addr_state\"] + \"<br>\" + \"Default Rate: \" + df_region[\"default_rate\"] +\"<br>\" \\\n",
    "              \"DTI: \" + df_region[\"dti\"].astype(str),\n",
    "        marker = dict(\n",
    "            line = dict (\n",
    "                color = 'rgb(255,255,255)',\n",
    "                width = 2\n",
    "            ) ),\n",
    "        colorbar = dict(\n",
    "            title = \"%\")\n",
    "        ) ]\n",
    "\n",
    "layout = dict(\n",
    "        title = 'Lending Club Loan <br> Default Rate By State',\n",
    "        geo = dict(\n",
    "            scope='usa',\n",
    "            projection=dict( type='albers usa' ),\n",
    "            showlakes = True,\n",
    "            lakecolor = 'rgb(255, 255, 255)'),\n",
    "             )\n",
    "    \n",
    "fig = dict( data=data, layout=layout )\n",
    "iplot( fig, filename='d4-cloropleth-map' )"
   ]
  },
  {
   "cell_type": "markdown",
   "metadata": {},
   "source": [
    "### Summary\n",
    "- Alaska has the highest **Average Loan Amount**.\n",
    "- California has the highest **Total Loan Amount**.\n",
    "\n",
    "- Iowa has the highest **default rate**.\n",
    "- Maine has the highest **DTI**."
   ]
  },
  {
   "cell_type": "markdown",
   "metadata": {},
   "source": [
    "## E. Interest Rate Base on Grade"
   ]
  },
  {
   "cell_type": "code",
   "execution_count": 27,
   "metadata": {
    "collapsed": true
   },
   "outputs": [],
   "source": [
    "#plt.subplots(figsize=(15,6))\n",
    "#plt.title(\"Interest rate base on Grade\")\n",
    "#sns.set(style=\"whitegrid\")\n",
    "#sns.violinplot(x=\"grade\", y=\"int_rate\",scale=\"count\", data=df_copy, order=df_copy[\"grade\"])"
   ]
  },
  {
   "cell_type": "markdown",
   "metadata": {},
   "source": [
    "# Machine Learning\n",
    "TODO Explain that we want predictions"
   ]
  },
  {
   "cell_type": "code",
   "execution_count": 28,
   "metadata": {
    "collapsed": true
   },
   "outputs": [],
   "source": [
    "from sklearn import metrics, svm\n",
    "from sklearn.model_selection import train_test_split\n",
    "from sklearn.ensemble import RandomForestClassifier\n",
    "from sklearn.tree import DecisionTreeClassifier\n",
    "from imblearn.under_sampling import RandomUnderSampler\n",
    "from imblearn.under_sampling import OneSidedSelection"
   ]
  },
  {
   "cell_type": "code",
   "execution_count": 29,
   "metadata": {
    "collapsed": true
   },
   "outputs": [],
   "source": [
    "# Data set up\n",
    "# TODO Make clean and normalize data\n",
    "# TODO balance data\n",
    "df_ml = pd.DataFrame()\n",
    "df_ml['annual_inc'] = df['annual_inc']\n",
    "df_ml['delinq_2yrs'] = df['delinq_2yrs']\n",
    "df_ml['dti'] = df['dti']\n",
    "df_ml['emp_length'] = categorize(df['emp_length'])\n",
    "#df_ml['fico_range_high'] = df['fico_range_high']\n",
    "#df_ml['fico_range_low'] = df['fico_range_low']\n",
    "df_ml['grade'] = categorize(df['grade'])\n",
    "df_ml['home_ownership'] = categorize(df['home_ownership'])\n",
    "df_ml['installment'] = df['installment']\n",
    "df_ml['int_rate'] = df['int_rate']\n",
    "df_ml['loan_amnt'] = df['loan_amnt']\n",
    "df_ml['loan_status'] = categorize(df['loan_status'])\n",
    "#df_ml['mnths_since_last_delinq'] = df['mnths_since_last_delinq']\n",
    "#df_ml['mnths_since_last_major_derog'] = df['mnths_since_last_major_derog']\n",
    "df_ml['purpose'] = categorize(df['purpose'])\n",
    "df_ml['sub_grade'] = categorize(df['sub_grade'])\n",
    "df_ml['term'] = categorize(df['term'])\n",
    "#df_ml['all_util'] = df['all_util']\n",
    "df_ml['acc_now_delinq'] = df['acc_now_delinq']\n",
    "#df_ml['tot_cur_bal'] = df['tot_cur_bal']\n",
    "#df_ml['int_rate'] = [int(round(x)) for x in df['int_rate']]\n",
    "#df_ml['int_rate'].unique()"
   ]
  },
  {
   "cell_type": "code",
   "execution_count": 30,
   "metadata": {},
   "outputs": [
    {
     "name": "stdout",
     "output_type": "stream",
     "text": [
      "<class 'pandas.core.frame.DataFrame'>\n",
      "Int64Index: 876170 entries, 0 to 887378\n",
      "Data columns (total 14 columns):\n",
      "annual_inc        876170 non-null float64\n",
      "delinq_2yrs       876170 non-null float64\n",
      "dti               876170 non-null float64\n",
      "emp_length        876170 non-null int64\n",
      "grade             876170 non-null int64\n",
      "home_ownership    876170 non-null int64\n",
      "installment       876170 non-null float64\n",
      "int_rate          876170 non-null float64\n",
      "loan_amnt         876170 non-null float64\n",
      "loan_status       876170 non-null int64\n",
      "purpose           876170 non-null int64\n",
      "sub_grade         876170 non-null int64\n",
      "term              876170 non-null int64\n",
      "acc_now_delinq    876170 non-null float64\n",
      "dtypes: float64(7), int64(7)\n",
      "memory usage: 100.3 MB\n"
     ]
    }
   ],
   "source": [
    "df_ml.info()"
   ]
  },
  {
   "cell_type": "code",
   "execution_count": 31,
   "metadata": {},
   "outputs": [
    {
     "data": {
      "text/plain": [
       "annual_inc        False\n",
       "delinq_2yrs       False\n",
       "dti               False\n",
       "emp_length        False\n",
       "grade             False\n",
       "home_ownership    False\n",
       "installment       False\n",
       "int_rate          False\n",
       "loan_amnt         False\n",
       "loan_status       False\n",
       "purpose           False\n",
       "sub_grade         False\n",
       "term              False\n",
       "acc_now_delinq    False\n",
       "dtype: bool"
      ]
     },
     "execution_count": 31,
     "metadata": {},
     "output_type": "execute_result"
    }
   ],
   "source": [
    "df_ml.isnull().any()"
   ]
  },
  {
   "cell_type": "code",
   "execution_count": null,
   "metadata": {
    "collapsed": true
   },
   "outputs": [],
   "source": [
    "y = df_ml['loan_status']\n",
    "X = df_ml.drop(['loan_status'], axis=1)"
   ]
  },
  {
   "cell_type": "code",
   "execution_count": null,
   "metadata": {},
   "outputs": [
    {
     "name": "stderr",
     "output_type": "stream",
     "text": [
      "C:\\Users\\deedasmi\\AppData\\Local\\Continuum\\anaconda3\\lib\\site-packages\\imblearn\\under_sampling\\prototype_selection\\one_sided_selection.py:197: DeprecationWarning:\n",
      "\n",
      "in the future out of bounds indices will raise an error instead of being ignored by `numpy.delete`.\n",
      "\n",
      "C:\\Users\\deedasmi\\AppData\\Local\\Continuum\\anaconda3\\lib\\site-packages\\imblearn\\under_sampling\\prototype_selection\\one_sided_selection.py:197: DeprecationWarning:\n",
      "\n",
      "in the future out of bounds indices will raise an error instead of being ignored by `numpy.delete`.\n",
      "\n",
      "C:\\Users\\deedasmi\\AppData\\Local\\Continuum\\anaconda3\\lib\\site-packages\\imblearn\\under_sampling\\prototype_selection\\one_sided_selection.py:197: DeprecationWarning:\n",
      "\n",
      "in the future out of bounds indices will raise an error instead of being ignored by `numpy.delete`.\n",
      "\n",
      "C:\\Users\\deedasmi\\AppData\\Local\\Continuum\\anaconda3\\lib\\site-packages\\imblearn\\under_sampling\\prototype_selection\\one_sided_selection.py:197: DeprecationWarning:\n",
      "\n",
      "in the future out of bounds indices will raise an error instead of being ignored by `numpy.delete`.\n",
      "\n",
      "C:\\Users\\deedasmi\\AppData\\Local\\Continuum\\anaconda3\\lib\\site-packages\\imblearn\\under_sampling\\prototype_selection\\one_sided_selection.py:197: DeprecationWarning:\n",
      "\n",
      "in the future out of bounds indices will raise an error instead of being ignored by `numpy.delete`.\n",
      "\n"
     ]
    }
   ],
   "source": [
    "X_train, X_test, y_train, y_test = train_test_split(X, y, test_size=0.3, random_state=42)\n",
    "\n",
    "oss = OneSidedSelection()\n",
    "X_resampled, y_resampled = oss.fit_sample(X, y)\n",
    "#X_resampled_train, X_resampled_test, y_resampled_train, y_resampled_test = train_test_split(X_resampled, y_resampled, test_size=0.3, random_state=1)"
   ]
  },
  {
   "cell_type": "code",
   "execution_count": null,
   "metadata": {},
   "outputs": [],
   "source": [
    "dt = DecisionTreeClassifier()\n",
    "dt.fit(X_train, y_train)\n",
    "\n",
    "print(\"Decision tree - Normal data set\")\n",
    "print(metrics.accuracy_score(y_test, dt.predict(X_test)))\n",
    "#print(metrics.confusion_matrix(y_test, dt.predict(X_test)))\n",
    "\n",
    "\n",
    "dt = DecisionTreeClassifier()\n",
    "dt.fit(X_resampled, y_resampled)\n",
    "print(\"Decision tree - Imbalanced lean -One Sided Selection\")\n",
    "print(metrics.accuracy_score(y, dt.predict(X)))\n",
    "#print(metrics.confusion_matrix(y, dt.predict(X)))"
   ]
  },
  {
   "cell_type": "code",
   "execution_count": null,
   "metadata": {},
   "outputs": [],
   "source": [
    "dt = DecisionTreeClassifier(max_depth=5, max_features=5)\n",
    "dt.fit(X_train, y_train)\n",
    "\n",
    "print(metrics.accuracy_score(y_test, dt.predict(X_test)))\n",
    "#print(metrics.confusion_matrix(y_test, dt.predict(X_test)))\n",
    "\n",
    "dt = DecisionTreeClassifier(max_depth=5, max_features=5)\n",
    "dt.fit(X_resampled, y_resampled)\n",
    "\n",
    "print(metrics.accuracy_score(y, dt.predict(X)))\n",
    "#print(metrics.confusion_matrix(y, dt.predict(X)))"
   ]
  },
  {
   "cell_type": "code",
   "execution_count": null,
   "metadata": {},
   "outputs": [],
   "source": [
    "clf = RandomForestClassifier()\n",
    "clf.fit(X_train, y_train)\n",
    "\n",
    "print(\"Random Forest - Normal data set\")\n",
    "print(metrics.accuracy_score(y_test, clf.predict(X_test)))\n",
    "#print(metrics.confusion_matrix(y_test, clf.predict(X_test)))\n",
    "print(\"\\n\")\n",
    "clf = RandomForestClassifier()\n",
    "clf.fit(X_resampled, y_resampled)\n",
    "\n",
    "print(\"Random Forest - Imbalanced learn - One-sided Selection\")\n",
    "print(metrics.accuracy_score(y, clf.predict(X)))\n",
    "#print(metrics.confusion_matrix(y, clf.predict(X)))"
   ]
  },
  {
   "cell_type": "code",
   "execution_count": null,
   "metadata": {
    "collapsed": true
   },
   "outputs": [],
   "source": []
  }
 ],
 "metadata": {
  "kernelspec": {
   "display_name": "Python 3",
   "language": "python",
   "name": "python3"
  },
  "language_info": {
   "codemirror_mode": {
    "name": "ipython",
    "version": 3
   },
   "file_extension": ".py",
   "mimetype": "text/x-python",
   "name": "python",
   "nbconvert_exporter": "python",
   "pygments_lexer": "ipython3",
   "version": "3.6.3"
  }
 },
 "nbformat": 4,
 "nbformat_minor": 2
}
