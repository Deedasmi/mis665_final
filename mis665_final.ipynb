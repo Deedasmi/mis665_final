{
 "cells": [
  {
   "cell_type": "markdown",
   "metadata": {},
   "source": [
    "# Who is paying and NOT paying the loan?\n",
    "    - by Jay Ko and Richard Petrie"
   ]
  },
  {
   "cell_type": "markdown",
   "metadata": {},
   "source": [
    "\"On my honor, as a student, I have neither given nor received unauthorized aid on this academic work.\""
   ]
  },
  {
   "cell_type": "markdown",
   "metadata": {},
   "source": [
    "## About dataset\n",
    "<br/>\n",
    "<div style=\"text-align:justify\">: This dataset is directly from the website [Lending-Club-Loan-Data](https://www.kaggle.com/wendykan/lending-club-loan-data). According to its description, <u>this dataset contains completed load data for all all loans issued through the 2007-2015, including the current loan status and latest payment information. This data set is a matrix of about 890,000 observations and 75 columns</u><sup>[1]</sup>\n",
    "[1]:https://www.kaggle.com/wendykan/lending-club-loan-data</div>"
   ]
  },
  {
   "cell_type": "markdown",
   "metadata": {},
   "source": [
    "![](images/cash.jpg)"
   ]
  },
  {
   "cell_type": "markdown",
   "metadata": {},
   "source": [
    "## Understanding data\n",
    "<div style=\"text-align:justify\">\n",
    "<br/>\n",
    "Not only to the merchandiser, but also to the loaner, getting money back is the most important part for their business. This data set observed almost 900,000 observation with variety factors such as `loan amount`, `funded amount`, `interest rate`, and `total payment` and etc. With this dataset, **we are trying to analysis who is most likely to pay back the loan and who is not**.</div>"
   ]
  },
  {
   "cell_type": "markdown",
   "metadata": {},
   "source": [
    "## Data processing"
   ]
  },
  {
   "cell_type": "code",
   "execution_count": 1,
   "metadata": {
    "collapsed": true
   },
   "outputs": [],
   "source": [
    "# Import basic data science packages\n",
    "import pandas as pd\n",
    "import seaborn as sns\n",
    "import numpy as np\n",
    "import matplotlib.pyplot as plt\n",
    "import matplotlib\n",
    "%matplotlib inline\n",
    "\n",
    "# A helper function that converts \n",
    "# [\"a\", \"b\", \"a\", \"c\"] into\n",
    "# [1, 2, 1, 3]\n",
    "def categorize(l):\n",
    "    uniques = sorted(list(set(l)))\n",
    "    return [uniques.index(x) + 1 for x in l]"
   ]
  },
  {
   "cell_type": "code",
   "execution_count": 2,
   "metadata": {},
   "outputs": [
    {
     "name": "stderr",
     "output_type": "stream",
     "text": [
      "C:\\Users\\deedasmi\\AppData\\Local\\Continuum\\anaconda3\\lib\\site-packages\\IPython\\core\\interactiveshell.py:2698: DtypeWarning: Columns (19,55) have mixed types. Specify dtype option on import or set low_memory=False.\n",
      "  interactivity=interactivity, compiler=compiler, result=result)\n"
     ]
    },
    {
     "data": {
      "text/html": [
       "<div>\n",
       "<style>\n",
       "    .dataframe thead tr:only-child th {\n",
       "        text-align: right;\n",
       "    }\n",
       "\n",
       "    .dataframe thead th {\n",
       "        text-align: left;\n",
       "    }\n",
       "\n",
       "    .dataframe tbody tr th {\n",
       "        vertical-align: top;\n",
       "    }\n",
       "</style>\n",
       "<table border=\"1\" class=\"dataframe\">\n",
       "  <thead>\n",
       "    <tr style=\"text-align: right;\">\n",
       "      <th></th>\n",
       "      <th>id</th>\n",
       "      <th>member_id</th>\n",
       "      <th>loan_amnt</th>\n",
       "      <th>funded_amnt</th>\n",
       "      <th>funded_amnt_inv</th>\n",
       "      <th>term</th>\n",
       "      <th>int_rate</th>\n",
       "      <th>installment</th>\n",
       "      <th>grade</th>\n",
       "      <th>sub_grade</th>\n",
       "      <th>...</th>\n",
       "      <th>total_bal_il</th>\n",
       "      <th>il_util</th>\n",
       "      <th>open_rv_12m</th>\n",
       "      <th>open_rv_24m</th>\n",
       "      <th>max_bal_bc</th>\n",
       "      <th>all_util</th>\n",
       "      <th>total_rev_hi_lim</th>\n",
       "      <th>inq_fi</th>\n",
       "      <th>total_cu_tl</th>\n",
       "      <th>inq_last_12m</th>\n",
       "    </tr>\n",
       "  </thead>\n",
       "  <tbody>\n",
       "    <tr>\n",
       "      <th>0</th>\n",
       "      <td>1077501</td>\n",
       "      <td>1296599</td>\n",
       "      <td>5000.0</td>\n",
       "      <td>5000.0</td>\n",
       "      <td>4975.0</td>\n",
       "      <td>36 months</td>\n",
       "      <td>10.65</td>\n",
       "      <td>162.87</td>\n",
       "      <td>B</td>\n",
       "      <td>B2</td>\n",
       "      <td>...</td>\n",
       "      <td>NaN</td>\n",
       "      <td>NaN</td>\n",
       "      <td>NaN</td>\n",
       "      <td>NaN</td>\n",
       "      <td>NaN</td>\n",
       "      <td>NaN</td>\n",
       "      <td>NaN</td>\n",
       "      <td>NaN</td>\n",
       "      <td>NaN</td>\n",
       "      <td>NaN</td>\n",
       "    </tr>\n",
       "    <tr>\n",
       "      <th>1</th>\n",
       "      <td>1077430</td>\n",
       "      <td>1314167</td>\n",
       "      <td>2500.0</td>\n",
       "      <td>2500.0</td>\n",
       "      <td>2500.0</td>\n",
       "      <td>60 months</td>\n",
       "      <td>15.27</td>\n",
       "      <td>59.83</td>\n",
       "      <td>C</td>\n",
       "      <td>C4</td>\n",
       "      <td>...</td>\n",
       "      <td>NaN</td>\n",
       "      <td>NaN</td>\n",
       "      <td>NaN</td>\n",
       "      <td>NaN</td>\n",
       "      <td>NaN</td>\n",
       "      <td>NaN</td>\n",
       "      <td>NaN</td>\n",
       "      <td>NaN</td>\n",
       "      <td>NaN</td>\n",
       "      <td>NaN</td>\n",
       "    </tr>\n",
       "    <tr>\n",
       "      <th>2</th>\n",
       "      <td>1077175</td>\n",
       "      <td>1313524</td>\n",
       "      <td>2400.0</td>\n",
       "      <td>2400.0</td>\n",
       "      <td>2400.0</td>\n",
       "      <td>36 months</td>\n",
       "      <td>15.96</td>\n",
       "      <td>84.33</td>\n",
       "      <td>C</td>\n",
       "      <td>C5</td>\n",
       "      <td>...</td>\n",
       "      <td>NaN</td>\n",
       "      <td>NaN</td>\n",
       "      <td>NaN</td>\n",
       "      <td>NaN</td>\n",
       "      <td>NaN</td>\n",
       "      <td>NaN</td>\n",
       "      <td>NaN</td>\n",
       "      <td>NaN</td>\n",
       "      <td>NaN</td>\n",
       "      <td>NaN</td>\n",
       "    </tr>\n",
       "  </tbody>\n",
       "</table>\n",
       "<p>3 rows × 74 columns</p>\n",
       "</div>"
      ],
      "text/plain": [
       "        id  member_id  loan_amnt  funded_amnt  funded_amnt_inv        term  \\\n",
       "0  1077501    1296599     5000.0       5000.0           4975.0   36 months   \n",
       "1  1077430    1314167     2500.0       2500.0           2500.0   60 months   \n",
       "2  1077175    1313524     2400.0       2400.0           2400.0   36 months   \n",
       "\n",
       "   int_rate  installment grade sub_grade     ...      total_bal_il il_util  \\\n",
       "0     10.65       162.87     B        B2     ...               NaN     NaN   \n",
       "1     15.27        59.83     C        C4     ...               NaN     NaN   \n",
       "2     15.96        84.33     C        C5     ...               NaN     NaN   \n",
       "\n",
       "  open_rv_12m  open_rv_24m max_bal_bc all_util total_rev_hi_lim inq_fi  \\\n",
       "0         NaN          NaN        NaN      NaN              NaN    NaN   \n",
       "1         NaN          NaN        NaN      NaN              NaN    NaN   \n",
       "2         NaN          NaN        NaN      NaN              NaN    NaN   \n",
       "\n",
       "  total_cu_tl inq_last_12m  \n",
       "0         NaN          NaN  \n",
       "1         NaN          NaN  \n",
       "2         NaN          NaN  \n",
       "\n",
       "[3 rows x 74 columns]"
      ]
     },
     "execution_count": 2,
     "metadata": {},
     "output_type": "execute_result"
    }
   ],
   "source": [
    "df = pd.read_csv(\"data/loan.csv\")\n",
    "df.head(3)"
   ]
  },
  {
   "cell_type": "code",
   "execution_count": 3,
   "metadata": {},
   "outputs": [],
   "source": [
    "# Initial drops. I'm fairly confident in not needing these.\n",
    "df = df.drop(['url', 'desc', 'policy_code', 'last_pymnt_d', 'next_pymnt_d', 'earliest_cr_line', 'emp_title'], axis=1)\n",
    "df = df.drop(['id', 'title', 'total_rec_int', 'total_rec_late_fee', 'total_rec_prncp', 'zip_code'], axis=1)"
   ]
  },
  {
   "cell_type": "code",
   "execution_count": 4,
   "metadata": {
    "collapsed": true
   },
   "outputs": [],
   "source": [
    "# Booleanize\n",
    "df['joint_application'] = [0 if x == \"INDIVIDUAL\" else 1 for x in df['application_type']]\n",
    "df = df.drop(['application_type'], axis=1)"
   ]
  },
  {
   "cell_type": "code",
   "execution_count": 5,
   "metadata": {},
   "outputs": [],
   "source": [
    "# Filters out \"Does not meet credit policy\" loan statuses\n",
    "# Removes 2,749 records\n",
    "df['loan_status_int'] = categorize(df['loan_status'])\n",
    "df = pd.DataFrame(df[df['loan_status_int'] != 4])\n",
    "df = pd.DataFrame(df[df['loan_status_int'] != 5])\n",
    "df = df.drop(['loan_status_int'], axis=1)\n",
    "\n",
    "#df.groupby(['loan_status']).size()"
   ]
  },
  {
   "cell_type": "code",
   "execution_count": 6,
   "metadata": {},
   "outputs": [
    {
     "name": "stdout",
     "output_type": "stream",
     "text": [
      "<class 'pandas.core.frame.DataFrame'>\n",
      "Int64Index: 884630 entries, 0 to 887378\n",
      "Data columns (total 61 columns):\n",
      "member_id                      884630 non-null int64\n",
      "loan_amnt                      884630 non-null float64\n",
      "funded_amnt                    884630 non-null float64\n",
      "funded_amnt_inv                884630 non-null float64\n",
      "term                           884630 non-null object\n",
      "int_rate                       884630 non-null float64\n",
      "installment                    884630 non-null float64\n",
      "grade                          884630 non-null object\n",
      "sub_grade                      884630 non-null object\n",
      "emp_length                     884630 non-null object\n",
      "home_ownership                 884630 non-null object\n",
      "annual_inc                     884630 non-null float64\n",
      "verification_status            884630 non-null object\n",
      "issue_d                        884630 non-null object\n",
      "loan_status                    884630 non-null object\n",
      "pymnt_plan                     884630 non-null object\n",
      "purpose                        884630 non-null object\n",
      "addr_state                     884630 non-null object\n",
      "dti                            884630 non-null float64\n",
      "delinq_2yrs                    884630 non-null float64\n",
      "inq_last_6mths                 884630 non-null float64\n",
      "mths_since_last_delinq         431517 non-null float64\n",
      "mths_since_last_record         136193 non-null float64\n",
      "open_acc                       884630 non-null float64\n",
      "pub_rec                        884630 non-null float64\n",
      "revol_bal                      884630 non-null float64\n",
      "revol_util                     884168 non-null float64\n",
      "total_acc                      884630 non-null float64\n",
      "initial_list_status            884630 non-null object\n",
      "out_prncp                      884630 non-null float64\n",
      "out_prncp_inv                  884630 non-null float64\n",
      "total_pymnt                    884630 non-null float64\n",
      "total_pymnt_inv                884630 non-null float64\n",
      "recoveries                     884630 non-null float64\n",
      "collection_recovery_fee        884630 non-null float64\n",
      "last_pymnt_amnt                884630 non-null float64\n",
      "last_credit_pull_d             884579 non-null object\n",
      "collections_12_mths_ex_med     884574 non-null float64\n",
      "mths_since_last_major_derog    221703 non-null float64\n",
      "annual_inc_joint               511 non-null float64\n",
      "dti_joint                      509 non-null float64\n",
      "verification_status_joint      511 non-null object\n",
      "acc_now_delinq                 884630 non-null float64\n",
      "tot_coll_amt                   817103 non-null float64\n",
      "tot_cur_bal                    817103 non-null float64\n",
      "open_acc_6m                    21372 non-null float64\n",
      "open_il_6m                     21372 non-null float64\n",
      "open_il_12m                    21372 non-null float64\n",
      "open_il_24m                    21372 non-null float64\n",
      "mths_since_rcnt_il             20810 non-null float64\n",
      "total_bal_il                   21372 non-null float64\n",
      "il_util                        18617 non-null float64\n",
      "open_rv_12m                    21372 non-null float64\n",
      "open_rv_24m                    21372 non-null float64\n",
      "max_bal_bc                     21372 non-null float64\n",
      "all_util                       21372 non-null float64\n",
      "total_rev_hi_lim               817103 non-null float64\n",
      "inq_fi                         21372 non-null float64\n",
      "total_cu_tl                    21372 non-null float64\n",
      "inq_last_12m                   21372 non-null float64\n",
      "joint_application              884630 non-null int64\n",
      "dtypes: float64(45), int64(2), object(14)\n",
      "memory usage: 418.4+ MB\n"
     ]
    }
   ],
   "source": [
    "# Need to drop or categorize object types\n",
    "df.info()"
   ]
  },
  {
   "cell_type": "code",
   "execution_count": 7,
   "metadata": {
    "scrolled": true
   },
   "outputs": [
    {
     "data": {
      "text/plain": [
       "member_id                      False\n",
       "loan_amnt                      False\n",
       "funded_amnt                    False\n",
       "funded_amnt_inv                False\n",
       "term                           False\n",
       "int_rate                       False\n",
       "installment                    False\n",
       "grade                          False\n",
       "sub_grade                      False\n",
       "emp_length                     False\n",
       "home_ownership                 False\n",
       "annual_inc                     False\n",
       "verification_status            False\n",
       "issue_d                        False\n",
       "loan_status                    False\n",
       "pymnt_plan                     False\n",
       "purpose                        False\n",
       "addr_state                     False\n",
       "dti                            False\n",
       "delinq_2yrs                    False\n",
       "inq_last_6mths                 False\n",
       "mths_since_last_delinq          True\n",
       "mths_since_last_record          True\n",
       "open_acc                       False\n",
       "pub_rec                        False\n",
       "revol_bal                      False\n",
       "revol_util                      True\n",
       "total_acc                      False\n",
       "initial_list_status            False\n",
       "out_prncp                      False\n",
       "                               ...  \n",
       "total_pymnt                    False\n",
       "total_pymnt_inv                False\n",
       "recoveries                     False\n",
       "collection_recovery_fee        False\n",
       "last_pymnt_amnt                False\n",
       "last_credit_pull_d              True\n",
       "collections_12_mths_ex_med      True\n",
       "mths_since_last_major_derog     True\n",
       "annual_inc_joint                True\n",
       "dti_joint                       True\n",
       "verification_status_joint       True\n",
       "acc_now_delinq                 False\n",
       "tot_coll_amt                    True\n",
       "tot_cur_bal                     True\n",
       "open_acc_6m                     True\n",
       "open_il_6m                      True\n",
       "open_il_12m                     True\n",
       "open_il_24m                     True\n",
       "mths_since_rcnt_il              True\n",
       "total_bal_il                    True\n",
       "il_util                         True\n",
       "open_rv_12m                     True\n",
       "open_rv_24m                     True\n",
       "max_bal_bc                      True\n",
       "all_util                        True\n",
       "total_rev_hi_lim                True\n",
       "inq_fi                          True\n",
       "total_cu_tl                     True\n",
       "inq_last_12m                    True\n",
       "joint_application              False\n",
       "Length: 61, dtype: bool"
      ]
     },
     "execution_count": 7,
     "metadata": {},
     "output_type": "execute_result"
    }
   ],
   "source": [
    "# We may have to drop columns with nulls\n",
    "df.isnull().any()"
   ]
  },
  {
   "cell_type": "markdown",
   "metadata": {
    "collapsed": true
   },
   "source": [
    "## Analysis"
   ]
  },
  {
   "cell_type": "markdown",
   "metadata": {},
   "source": [
    "### A. Employement Length For Issued Loans"
   ]
  },
  {
   "cell_type": "code",
   "execution_count": 8,
   "metadata": {},
   "outputs": [
    {
     "data": {
      "text/plain": [
       "array(['10+ years', '0.5', '1 year', '3 years', '8 years', '9 years',\n",
       "       '4 years', '5 years', '6 years', '2 years', '7 years', 'n/a'], dtype=object)"
      ]
     },
     "execution_count": 8,
     "metadata": {},
     "output_type": "execute_result"
    }
   ],
   "source": [
    "# make temporary dataframe in order to keep original dataframe\n",
    "df_copy = df.copy()\n",
    "df_copy[\"emp_length\"] = [\"0.5\" if x == '< 1 year' else x for x in df_copy[\"emp_length\"]]\n",
    "\n",
    "# check employment length\n",
    "df_copy.emp_length.unique()"
   ]
  },
  {
   "cell_type": "code",
   "execution_count": 9,
   "metadata": {},
   "outputs": [],
   "source": [
    "# Using regex to easy convert\n",
    "\n",
    "import re\n",
    "reg = re.compile(r'(\\d+\\.?\\d?)')\n",
    "t = []\n",
    "for emp in df_copy.emp_length:\n",
    "    value = reg.match(emp)\n",
    "    t.append(float(value[0]) if value else 0)\n",
    "df_copy['emp'] = t\n",
    "\n",
    "# < 1 years is denoted by 0.5\n",
    "# n/a is considered 0\n",
    "# 10+ years is denoted 10 years"
   ]
  },
  {
   "cell_type": "code",
   "execution_count": 10,
   "metadata": {
    "collapsed": true
   },
   "outputs": [],
   "source": [
    "f = pd.value_counts(df_copy['emp']).to_frame().reset_index()\n",
    "f.columns = ['type','count']"
   ]
  },
  {
   "cell_type": "code",
   "execution_count": 11,
   "metadata": {
    "scrolled": false
   },
   "outputs": [
    {
     "data": {
      "image/png": "[encoded data removed]",
      "text/plain": [
       "<matplotlib.figure.Figure at 0x1c0850980f0>"
      ]
     },
     "metadata": {},
     "output_type": "display_data"
    }
   ],
   "source": [
    "plt.subplots(figsize=(15,6))\n",
    "sns.barplot(y='count', x='type', data=f)\n",
    "plt.xlabel(\"Length\")\n",
    "plt.ylabel(\"Count\")\n",
    "plt.title(\"Distribution of Employement Length For Issued Loans\")\n",
    "plt.show()"
   ]
  },
  {
   "cell_type": "markdown",
   "metadata": {},
   "source": [
    "### Summary\n",
    "- People work for **10+ years** have the highest loan issue number(291,569) which is almost three times higher than second place(**0**, 115,430)"
   ]
  },
  {
   "cell_type": "markdown",
   "metadata": {},
   "source": [
    "### B. Loan Status"
   ]
  },
  {
   "cell_type": "code",
   "execution_count": 12,
   "metadata": {},
   "outputs": [
    {
     "data": {
      "image/png": "[encoded data removed]",
      "text/plain": [
       "<matplotlib.figure.Figure at 0x1c0eb7ec780>"
      ]
     },
     "metadata": {},
     "output_type": "display_data"
    }
   ],
   "source": [
    "legend = [\"Late (16-30 days)\",\n",
    "            \"Late (31-120 days)\",\n",
    "            \"In Grace Period\",\n",
    "            \"Default\",\n",
    "            \"Current\",\n",
    "            \"Charged Off\",\n",
    "            \"Issued\",\n",
    "            \"Fully Paid\"]\n",
    "legend = sorted(legend)\n",
    "plt.subplots(figsize=(15,6))\n",
    "sns.set_context(\"paper\", font_scale=2)\n",
    "sns.set_style(\"white\")\n",
    "a = sns.distplot(categorize(df_copy[\"loan_status\"]), kde=False)\n",
    "a.set(xlabel=legend)\n",
    "\n",
    "plt.legend()\n",
    "plt.show()"
   ]
  },
  {
   "cell_type": "code",
   "execution_count": 13,
   "metadata": {},
   "outputs": [
    {
     "data": {
      "text/plain": [
       "<matplotlib.axes._subplots.AxesSubplot at 0x1c0eb7ecbe0>"
      ]
     },
     "execution_count": 13,
     "metadata": {},
     "output_type": "execute_result"
    },
    {
     "data": {
      "image/png": "[encoded data removed]",
      "text/plain": [
       "<matplotlib.figure.Figure at 0x1c085098390>"
      ]
     },
     "metadata": {},
     "output_type": "display_data"
    }
   ],
   "source": [
    "# Loan amount by its status\n",
    "plt.subplots(figsize=(20,10))\n",
    "plt.title(\"The distribution of loan amounts by status\").set_size(40)\n",
    "sns.boxplot(x=\"loan_amnt\", y=\"loan_status\", data=df_copy)"
   ]
  },
  {
   "cell_type": "markdown",
   "metadata": {},
   "source": [
    "### Summary\n",
    "- **Default** has the highest count among other **loan status**.\n",
    "- **In Grace Period** and **Late(16~30 days)** have the highest loan amount and mean."
   ]
  },
  {
   "cell_type": "markdown",
   "metadata": {},
   "source": [
    "### C. Loan Amount Base on Grade"
   ]
  },
  {
   "cell_type": "code",
   "execution_count": 14,
   "metadata": {},
   "outputs": [
    {
     "data": {
      "text/plain": [
       "<matplotlib.axes._subplots.AxesSubplot at 0x1c08054bdd8>"
      ]
     },
     "execution_count": 14,
     "metadata": {},
     "output_type": "execute_result"
    },
    {
     "data": {
      "image/png": "[encoded data removed]",
      "text/plain": [
       "<matplotlib.figure.Figure at 0x1c080074208>"
      ]
     },
     "metadata": {},
     "output_type": "display_data"
    }
   ],
   "source": [
    "group = df_copy.groupby(\"grade\").mean()\n",
    "avg_loan = group['loan_amnt'].reset_index()\n",
    "plt.subplots(figsize=(15,9))\n",
    "sns.barplot(x='grade', y='loan_amnt', data=avg_loan, palette='Set2')"
   ]
  },
  {
   "cell_type": "markdown",
   "metadata": {},
   "source": [
    "### Summary\n",
    "- The lower grade, the higher loan amount loan issued"
   ]
  },
  {
   "cell_type": "code",
   "execution_count": 15,
   "metadata": {
    "collapsed": true
   },
   "outputs": [],
   "source": [
    "# showing columns by name in ascedent order\n",
    "#df.reindex_axis(sorted(df.columns), axis=1).info()"
   ]
  },
  {
   "cell_type": "code",
   "execution_count": null,
   "metadata": {
    "collapsed": true
   },
   "outputs": [],
   "source": []
  },
  {
   "cell_type": "code",
   "execution_count": null,
   "metadata": {
    "collapsed": true
   },
   "outputs": [],
   "source": []
  }
 ],
 "metadata": {
  "kernelspec": {
   "display_name": "Python 3",
   "language": "python",
   "name": "python3"
  },
  "language_info": {
   "codemirror_mode": {
    "name": "ipython",
    "version": 3
   },
   "file_extension": ".py",
   "mimetype": "text/x-python",
   "name": "python",
   "nbconvert_exporter": "python",
   "pygments_lexer": "ipython3",
   "version": "3.6.3"
  }
 },
 "nbformat": 4,
 "nbformat_minor": 2
}
